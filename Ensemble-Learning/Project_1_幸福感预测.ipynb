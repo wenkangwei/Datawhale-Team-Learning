{
  "nbformat": 4,
  "nbformat_minor": 0,
  "metadata": {
    "colab": {
      "name": "Project-1-幸福感预测.ipynb",
      "provenance": [],
      "collapsed_sections": []
    },
    "kernelspec": {
      "name": "python3",
      "display_name": "Python 3"
    },
    "language_info": {
      "name": "python"
    }
  },
  "cells": [
    {
      "cell_type": "markdown",
      "metadata": {
        "id": "ur5zoypaFnVK"
      },
      "source": [
        "# 背景介绍\n",
        "幸福感是一个古老而深刻的话题，是人类世代追求的方向。与幸福感相关的因素成千上万、因人而异，大如国计民生，小如路边烤红薯，都\n",
        "会对幸福感产生影响。这些错综复杂的因素中，我们能找到其中的共性，一窥幸福感的要义吗？\n",
        "\n",
        "另外，在社会科学领域，幸福感的研究占有重要的位置。这个涉及了哲学、心理学、社会学、经济学等多方学科的话题复杂而有趣；同时与\n",
        "大家生活息息相关，每个人对幸福感都有自己的衡量标准。如果能发现影响幸福感的共性，生活中是不是将多一些乐趣；如果能找到影响幸福感的政策因素，便能优化资源配置来提升国民的幸福感。目前社会科学研究注重变量的可解释性和未来政策的落地，主要采用了线性回归和逻辑回归的方法，在收入、健康、职业、社交关系、休闲方式等经济人口因素；以及政府公共服务、宏观经济环境、税负等宏观因素上有了一系列的推测和发现。\n",
        "\n",
        "该案例为幸福感预测这一经典课题，希望在现有社会科学研究外有其他维度的算法尝试，结合多学科各自优势，挖掘潜在的影响因素，发现\n",
        "更多可解释、可理解的相关关系。具体来说，该案例就是一个数据挖掘类型的比赛——幸福感预测的baseline。具体来说，我们需要使用包括个体变量（性别、年龄、地域、\n",
        "职业、健康、婚姻与政治面貌等等）、家庭变量（父母、配偶、子女、家庭资本等等）、社会态度（公平、信用、公共服务等等）等139维\n",
        "度的信息来预测其对幸福感的影响。\n",
        "我们的数据来源于国家官方的《中国综合社会调查（CGSS）》文件中的调查结果中的数据，数据来源可靠可依赖:)\n",
        "\n",
        "# 数据信息\n",
        "赛题要求使用以上 139 维的特征，使用 8000 余组数据进行对于个人幸福感的预测（预测值为1，2，3，4，5，其中1代表幸福感最低，5代\n",
        "表幸福感最高）。\n",
        "因为考虑到变量个数较多，部分变量间关系复杂，数据分为完整版和精简版两类。可从精简版入手熟悉赛题后，使用完整版挖掘更多信息。在这里我直接使用了完整版的数据。赛题也给出了index文件中包含每个变量对应的问卷题目，以及变量取值的含义；survey文件中为原版问卷，作为补充以方便理解问题背景。\n",
        "\n",
        "# 评价指标\n",
        "MSE Loss:\n",
        "\n",
        "$$Score = \\sum_i^n (y_i - y_i^*)^2$$\n",
        "\n",
        "$y_i$ 是target, $y_i^*$是prediction\n"
      ]
    },
    {
      "cell_type": "code",
      "metadata": {
        "id": "K0pHjW8DFNf6"
      },
      "source": [
        "# utilities\n",
        "import os\n",
        "import time\n",
        "import pandas as pd\n",
        "import numpy as np\n",
        "import seaborn as sns\n",
        "\n",
        "# models\n",
        "from sklearn.linear_model import LogisticRegression\n",
        "from sklearn.svm import SVC, LinearSVC\n",
        "from sklearn.ensemble import RandomForestClassifier\n",
        "from sklearn.neighbors import KNeighborsClassifier\n",
        "from sklearn.naive_bayes import GaussianNB\n",
        "from sklearn.linear_model import Perceptron\n",
        "from sklearn.linear_model import SGDClassifier\n",
        "from sklearn.tree import DecisionTreeClassifier\n",
        "\n",
        "from sklearn.ensemble import RandomForestRegressor as rfr\n",
        "from sklearn.ensemble import ExtraTreesRegressor as etr\n",
        "from sklearn.linear_model import BayesianRidge as br\n",
        "from sklearn.ensemble import GradientBoostingRegressor as gbr\n",
        "from sklearn.linear_model import Ridge\n",
        "from sklearn.linear_model import Lasso\n",
        "from sklearn.linear_model import LinearRegression as lr\n",
        "from sklearn.linear_model import ElasticNet as en\n",
        "from sklearn.kernel_ridge import KernelRidge as kr\n",
        "\n",
        "import lightgbm as lgb\n",
        "import xgboost as xgb\n",
        "\n",
        "\n",
        "# metrics\n",
        "from sklearn import metrics\n",
        "from datetime import datetime\n",
        "import matplotlib.pyplot as plt\n",
        "from sklearn.metrics import roc_auc_score, roc_curve, mean_squared_error,mean_absolute_error, f1_score\n",
        "\n",
        "\n",
        "from sklearn.model_selection import KFold, StratifiedKFold,GroupKFold, RepeatedKFold\n",
        "from sklearn.model_selection import train_test_split\n",
        "from sklearn.model_selection import GridSearchCV\n",
        "from sklearn import preprocessing\n",
        "import logging\n",
        "import warnings\n",
        "warnings.filterwarnings('ignore') #消除warning\n"
      ],
      "execution_count": 1,
      "outputs": []
    },
    {
      "cell_type": "code",
      "metadata": {
        "colab": {
          "base_uri": "https://localhost:8080/"
        },
        "id": "_bqhdru7GlUF",
        "outputId": "7f7ac877-be0f-49d9-dc2a-352d961f8ead"
      },
      "source": [
        "! git clone https://github.com/datawhalechina/team-learning-data-mining.git\n",
        "! cp /content/team-learning-data-mining/EnsembleLearning/CH6-集成学习之案例分享/集成学习案例分析1/* ."
      ],
      "execution_count": 2,
      "outputs": [
        {
          "output_type": "stream",
          "text": [
            "Cloning into 'team-learning-data-mining'...\n",
            "remote: Enumerating objects: 1234, done.\u001b[K\n",
            "remote: Counting objects: 100% (267/267), done.\u001b[K\n",
            "remote: Compressing objects: 100% (61/61), done.\u001b[K\n",
            "remote: Total 1234 (delta 213), reused 225 (delta 206), pack-reused 967\u001b[K\n",
            "Receiving objects: 100% (1234/1234), 81.21 MiB | 29.61 MiB/s, done.\n",
            "Resolving deltas: 100% (535/535), done.\n"
          ],
          "name": "stdout"
        }
      ]
    },
    {
      "cell_type": "code",
      "metadata": {
        "id": "WneZDlBWKmuJ"
      },
      "source": [
        "# !mv team-learning-data-mining/ drive/MyDrive/Colab\\ Notebooks/Ensemble-Learning"
      ],
      "execution_count": 3,
      "outputs": []
    },
    {
      "cell_type": "code",
      "metadata": {
        "colab": {
          "base_uri": "https://localhost:8080/"
        },
        "id": "3Id3E4_pLxj2",
        "outputId": "3c1ec6f7-ee82-4a3c-c040-b68046c200d1"
      },
      "source": [
        "\n",
        "train = pd.read_csv(\"train.csv\", parse_dates=['survey_time'],encoding='latin-1')\n",
        "test = pd.read_csv(\"test.csv\", parse_dates=['survey_time'],encoding='latin-1') #latin-1向下兼容ASCII\n",
        "train = train[train[\"happiness\"]!=-8].reset_index(drop=True)\n",
        "train_data_copy = train.copy() #删去\"happiness\" 为-8的行\n",
        "target_col = \"happiness\" #目标列\n",
        "target = train_data_copy[target_col]\n",
        "del train_data_copy[target_col] #去除目标列\n",
        "data = pd.concat([train_data_copy,test],axis=0,ignore_index=True)\n",
        "train.happiness.describe() #数据的基本信息\n"
      ],
      "execution_count": 4,
      "outputs": [
        {
          "output_type": "execute_result",
          "data": {
            "text/plain": [
              "count    7988.000000\n",
              "mean        3.867927\n",
              "std         0.818717\n",
              "min         1.000000\n",
              "25%         4.000000\n",
              "50%         4.000000\n",
              "75%         4.000000\n",
              "max         5.000000\n",
              "Name: happiness, dtype: float64"
            ]
          },
          "metadata": {
            "tags": []
          },
          "execution_count": 4
        }
      ]
    },
    {
      "cell_type": "markdown",
      "metadata": {
        "id": "m5OfWqh_CgtR"
      },
      "source": [
        "# 做一下数据分析"
      ]
    },
    {
      "cell_type": "code",
      "metadata": {
        "colab": {
          "base_uri": "https://localhost:8080/",
          "height": 329
        },
        "id": "kJp67_yiNCaV",
        "outputId": "daf396fd-13b5-4529-88e7-7aef7dbca160"
      },
      "source": [
        "data.head()"
      ],
      "execution_count": 5,
      "outputs": [
        {
          "output_type": "execute_result",
          "data": {
            "text/html": [
              "<div>\n",
              "<style scoped>\n",
              "    .dataframe tbody tr th:only-of-type {\n",
              "        vertical-align: middle;\n",
              "    }\n",
              "\n",
              "    .dataframe tbody tr th {\n",
              "        vertical-align: top;\n",
              "    }\n",
              "\n",
              "    .dataframe thead th {\n",
              "        text-align: right;\n",
              "    }\n",
              "</style>\n",
              "<table border=\"1\" class=\"dataframe\">\n",
              "  <thead>\n",
              "    <tr style=\"text-align: right;\">\n",
              "      <th></th>\n",
              "      <th>id</th>\n",
              "      <th>survey_type</th>\n",
              "      <th>province</th>\n",
              "      <th>city</th>\n",
              "      <th>county</th>\n",
              "      <th>survey_time</th>\n",
              "      <th>gender</th>\n",
              "      <th>birth</th>\n",
              "      <th>nationality</th>\n",
              "      <th>religion</th>\n",
              "      <th>religion_freq</th>\n",
              "      <th>edu</th>\n",
              "      <th>edu_other</th>\n",
              "      <th>edu_status</th>\n",
              "      <th>edu_yr</th>\n",
              "      <th>income</th>\n",
              "      <th>political</th>\n",
              "      <th>join_party</th>\n",
              "      <th>floor_area</th>\n",
              "      <th>property_0</th>\n",
              "      <th>property_1</th>\n",
              "      <th>property_2</th>\n",
              "      <th>property_3</th>\n",
              "      <th>property_4</th>\n",
              "      <th>property_5</th>\n",
              "      <th>property_6</th>\n",
              "      <th>property_7</th>\n",
              "      <th>property_8</th>\n",
              "      <th>property_other</th>\n",
              "      <th>height_cm</th>\n",
              "      <th>weight_jin</th>\n",
              "      <th>health</th>\n",
              "      <th>health_problem</th>\n",
              "      <th>depression</th>\n",
              "      <th>hukou</th>\n",
              "      <th>hukou_loc</th>\n",
              "      <th>media_1</th>\n",
              "      <th>media_2</th>\n",
              "      <th>media_3</th>\n",
              "      <th>media_4</th>\n",
              "      <th>...</th>\n",
              "      <th>s_income</th>\n",
              "      <th>s_work_exper</th>\n",
              "      <th>s_work_status</th>\n",
              "      <th>s_work_type</th>\n",
              "      <th>f_birth</th>\n",
              "      <th>f_edu</th>\n",
              "      <th>f_political</th>\n",
              "      <th>f_work_14</th>\n",
              "      <th>m_birth</th>\n",
              "      <th>m_edu</th>\n",
              "      <th>m_political</th>\n",
              "      <th>m_work_14</th>\n",
              "      <th>status_peer</th>\n",
              "      <th>status_3_before</th>\n",
              "      <th>view</th>\n",
              "      <th>inc_ability</th>\n",
              "      <th>inc_exp</th>\n",
              "      <th>trust_1</th>\n",
              "      <th>trust_2</th>\n",
              "      <th>trust_3</th>\n",
              "      <th>trust_4</th>\n",
              "      <th>trust_5</th>\n",
              "      <th>trust_6</th>\n",
              "      <th>trust_7</th>\n",
              "      <th>trust_8</th>\n",
              "      <th>trust_9</th>\n",
              "      <th>trust_10</th>\n",
              "      <th>trust_11</th>\n",
              "      <th>trust_12</th>\n",
              "      <th>trust_13</th>\n",
              "      <th>neighbor_familiarity</th>\n",
              "      <th>public_service_1</th>\n",
              "      <th>public_service_2</th>\n",
              "      <th>public_service_3</th>\n",
              "      <th>public_service_4</th>\n",
              "      <th>public_service_5</th>\n",
              "      <th>public_service_6</th>\n",
              "      <th>public_service_7</th>\n",
              "      <th>public_service_8</th>\n",
              "      <th>public_service_9</th>\n",
              "    </tr>\n",
              "  </thead>\n",
              "  <tbody>\n",
              "    <tr>\n",
              "      <th>0</th>\n",
              "      <td>1</td>\n",
              "      <td>1</td>\n",
              "      <td>12</td>\n",
              "      <td>32</td>\n",
              "      <td>59</td>\n",
              "      <td>2015-08-04 14:18:00</td>\n",
              "      <td>1</td>\n",
              "      <td>1959</td>\n",
              "      <td>1</td>\n",
              "      <td>1</td>\n",
              "      <td>1</td>\n",
              "      <td>11</td>\n",
              "      <td>NaN</td>\n",
              "      <td>4.0</td>\n",
              "      <td>-2.0</td>\n",
              "      <td>20000</td>\n",
              "      <td>1</td>\n",
              "      <td>NaN</td>\n",
              "      <td>45.0</td>\n",
              "      <td>0</td>\n",
              "      <td>1</td>\n",
              "      <td>0</td>\n",
              "      <td>0</td>\n",
              "      <td>0</td>\n",
              "      <td>0</td>\n",
              "      <td>0</td>\n",
              "      <td>0</td>\n",
              "      <td>0</td>\n",
              "      <td>NaN</td>\n",
              "      <td>176</td>\n",
              "      <td>155</td>\n",
              "      <td>3</td>\n",
              "      <td>2</td>\n",
              "      <td>5</td>\n",
              "      <td>5</td>\n",
              "      <td>2.0</td>\n",
              "      <td>4</td>\n",
              "      <td>2</td>\n",
              "      <td>5</td>\n",
              "      <td>5</td>\n",
              "      <td>...</td>\n",
              "      <td>40000.0</td>\n",
              "      <td>5.0</td>\n",
              "      <td>NaN</td>\n",
              "      <td>NaN</td>\n",
              "      <td>-2</td>\n",
              "      <td>4</td>\n",
              "      <td>4</td>\n",
              "      <td>1</td>\n",
              "      <td>-2</td>\n",
              "      <td>4</td>\n",
              "      <td>1</td>\n",
              "      <td>1</td>\n",
              "      <td>3</td>\n",
              "      <td>2</td>\n",
              "      <td>4</td>\n",
              "      <td>3</td>\n",
              "      <td>50000.0</td>\n",
              "      <td>4</td>\n",
              "      <td>2</td>\n",
              "      <td>-8</td>\n",
              "      <td>-8</td>\n",
              "      <td>5</td>\n",
              "      <td>3</td>\n",
              "      <td>2</td>\n",
              "      <td>3</td>\n",
              "      <td>4</td>\n",
              "      <td>3</td>\n",
              "      <td>-8</td>\n",
              "      <td>4</td>\n",
              "      <td>1</td>\n",
              "      <td>4</td>\n",
              "      <td>50</td>\n",
              "      <td>60.0</td>\n",
              "      <td>50</td>\n",
              "      <td>50</td>\n",
              "      <td>30.0</td>\n",
              "      <td>30</td>\n",
              "      <td>50</td>\n",
              "      <td>50</td>\n",
              "      <td>50</td>\n",
              "    </tr>\n",
              "    <tr>\n",
              "      <th>1</th>\n",
              "      <td>2</td>\n",
              "      <td>2</td>\n",
              "      <td>18</td>\n",
              "      <td>52</td>\n",
              "      <td>85</td>\n",
              "      <td>2015-07-21 15:04:00</td>\n",
              "      <td>1</td>\n",
              "      <td>1992</td>\n",
              "      <td>1</td>\n",
              "      <td>1</td>\n",
              "      <td>1</td>\n",
              "      <td>12</td>\n",
              "      <td>NaN</td>\n",
              "      <td>4.0</td>\n",
              "      <td>2013.0</td>\n",
              "      <td>20000</td>\n",
              "      <td>1</td>\n",
              "      <td>NaN</td>\n",
              "      <td>110.0</td>\n",
              "      <td>0</td>\n",
              "      <td>0</td>\n",
              "      <td>0</td>\n",
              "      <td>0</td>\n",
              "      <td>1</td>\n",
              "      <td>0</td>\n",
              "      <td>0</td>\n",
              "      <td>0</td>\n",
              "      <td>0</td>\n",
              "      <td>NaN</td>\n",
              "      <td>170</td>\n",
              "      <td>110</td>\n",
              "      <td>5</td>\n",
              "      <td>4</td>\n",
              "      <td>3</td>\n",
              "      <td>1</td>\n",
              "      <td>1.0</td>\n",
              "      <td>2</td>\n",
              "      <td>2</td>\n",
              "      <td>1</td>\n",
              "      <td>3</td>\n",
              "      <td>...</td>\n",
              "      <td>NaN</td>\n",
              "      <td>NaN</td>\n",
              "      <td>NaN</td>\n",
              "      <td>NaN</td>\n",
              "      <td>1972</td>\n",
              "      <td>3</td>\n",
              "      <td>1</td>\n",
              "      <td>2</td>\n",
              "      <td>1973</td>\n",
              "      <td>3</td>\n",
              "      <td>1</td>\n",
              "      <td>2</td>\n",
              "      <td>1</td>\n",
              "      <td>1</td>\n",
              "      <td>4</td>\n",
              "      <td>2</td>\n",
              "      <td>50000.0</td>\n",
              "      <td>5</td>\n",
              "      <td>4</td>\n",
              "      <td>4</td>\n",
              "      <td>3</td>\n",
              "      <td>5</td>\n",
              "      <td>3</td>\n",
              "      <td>3</td>\n",
              "      <td>3</td>\n",
              "      <td>2</td>\n",
              "      <td>3</td>\n",
              "      <td>3</td>\n",
              "      <td>3</td>\n",
              "      <td>2</td>\n",
              "      <td>3</td>\n",
              "      <td>90</td>\n",
              "      <td>70.0</td>\n",
              "      <td>70</td>\n",
              "      <td>80</td>\n",
              "      <td>85.0</td>\n",
              "      <td>70</td>\n",
              "      <td>90</td>\n",
              "      <td>60</td>\n",
              "      <td>60</td>\n",
              "    </tr>\n",
              "    <tr>\n",
              "      <th>2</th>\n",
              "      <td>3</td>\n",
              "      <td>2</td>\n",
              "      <td>29</td>\n",
              "      <td>83</td>\n",
              "      <td>126</td>\n",
              "      <td>2015-07-21 13:24:00</td>\n",
              "      <td>2</td>\n",
              "      <td>1967</td>\n",
              "      <td>1</td>\n",
              "      <td>0</td>\n",
              "      <td>3</td>\n",
              "      <td>4</td>\n",
              "      <td>NaN</td>\n",
              "      <td>4.0</td>\n",
              "      <td>-2.0</td>\n",
              "      <td>2000</td>\n",
              "      <td>1</td>\n",
              "      <td>NaN</td>\n",
              "      <td>120.0</td>\n",
              "      <td>0</td>\n",
              "      <td>1</td>\n",
              "      <td>1</td>\n",
              "      <td>0</td>\n",
              "      <td>0</td>\n",
              "      <td>0</td>\n",
              "      <td>0</td>\n",
              "      <td>0</td>\n",
              "      <td>0</td>\n",
              "      <td>NaN</td>\n",
              "      <td>160</td>\n",
              "      <td>122</td>\n",
              "      <td>4</td>\n",
              "      <td>4</td>\n",
              "      <td>5</td>\n",
              "      <td>1</td>\n",
              "      <td>1.0</td>\n",
              "      <td>2</td>\n",
              "      <td>2</td>\n",
              "      <td>2</td>\n",
              "      <td>5</td>\n",
              "      <td>...</td>\n",
              "      <td>6000.0</td>\n",
              "      <td>3.0</td>\n",
              "      <td>NaN</td>\n",
              "      <td>NaN</td>\n",
              "      <td>-2</td>\n",
              "      <td>1</td>\n",
              "      <td>1</td>\n",
              "      <td>2</td>\n",
              "      <td>-2</td>\n",
              "      <td>1</td>\n",
              "      <td>1</td>\n",
              "      <td>2</td>\n",
              "      <td>2</td>\n",
              "      <td>1</td>\n",
              "      <td>4</td>\n",
              "      <td>2</td>\n",
              "      <td>80000.0</td>\n",
              "      <td>3</td>\n",
              "      <td>3</td>\n",
              "      <td>3</td>\n",
              "      <td>3</td>\n",
              "      <td>4</td>\n",
              "      <td>3</td>\n",
              "      <td>3</td>\n",
              "      <td>3</td>\n",
              "      <td>3</td>\n",
              "      <td>3</td>\n",
              "      <td>-8</td>\n",
              "      <td>3</td>\n",
              "      <td>1</td>\n",
              "      <td>4</td>\n",
              "      <td>90</td>\n",
              "      <td>80.0</td>\n",
              "      <td>75</td>\n",
              "      <td>79</td>\n",
              "      <td>80.0</td>\n",
              "      <td>90</td>\n",
              "      <td>90</td>\n",
              "      <td>90</td>\n",
              "      <td>75</td>\n",
              "    </tr>\n",
              "    <tr>\n",
              "      <th>3</th>\n",
              "      <td>4</td>\n",
              "      <td>2</td>\n",
              "      <td>10</td>\n",
              "      <td>28</td>\n",
              "      <td>51</td>\n",
              "      <td>2015-07-25 17:33:00</td>\n",
              "      <td>2</td>\n",
              "      <td>1943</td>\n",
              "      <td>1</td>\n",
              "      <td>1</td>\n",
              "      <td>1</td>\n",
              "      <td>3</td>\n",
              "      <td>NaN</td>\n",
              "      <td>4.0</td>\n",
              "      <td>1959.0</td>\n",
              "      <td>6420</td>\n",
              "      <td>1</td>\n",
              "      <td>NaN</td>\n",
              "      <td>78.0</td>\n",
              "      <td>0</td>\n",
              "      <td>0</td>\n",
              "      <td>0</td>\n",
              "      <td>1</td>\n",
              "      <td>0</td>\n",
              "      <td>0</td>\n",
              "      <td>0</td>\n",
              "      <td>0</td>\n",
              "      <td>0</td>\n",
              "      <td>NaN</td>\n",
              "      <td>163</td>\n",
              "      <td>170</td>\n",
              "      <td>4</td>\n",
              "      <td>4</td>\n",
              "      <td>4</td>\n",
              "      <td>1</td>\n",
              "      <td>2.0</td>\n",
              "      <td>2</td>\n",
              "      <td>1</td>\n",
              "      <td>1</td>\n",
              "      <td>5</td>\n",
              "      <td>...</td>\n",
              "      <td>NaN</td>\n",
              "      <td>NaN</td>\n",
              "      <td>NaN</td>\n",
              "      <td>NaN</td>\n",
              "      <td>-2</td>\n",
              "      <td>14</td>\n",
              "      <td>1</td>\n",
              "      <td>2</td>\n",
              "      <td>-2</td>\n",
              "      <td>1</td>\n",
              "      <td>1</td>\n",
              "      <td>2</td>\n",
              "      <td>2</td>\n",
              "      <td>1</td>\n",
              "      <td>3</td>\n",
              "      <td>2</td>\n",
              "      <td>10000.0</td>\n",
              "      <td>3</td>\n",
              "      <td>3</td>\n",
              "      <td>4</td>\n",
              "      <td>3</td>\n",
              "      <td>5</td>\n",
              "      <td>3</td>\n",
              "      <td>3</td>\n",
              "      <td>5</td>\n",
              "      <td>4</td>\n",
              "      <td>3</td>\n",
              "      <td>3</td>\n",
              "      <td>3</td>\n",
              "      <td>2</td>\n",
              "      <td>3</td>\n",
              "      <td>100</td>\n",
              "      <td>90.0</td>\n",
              "      <td>70</td>\n",
              "      <td>80</td>\n",
              "      <td>80.0</td>\n",
              "      <td>90</td>\n",
              "      <td>90</td>\n",
              "      <td>80</td>\n",
              "      <td>80</td>\n",
              "    </tr>\n",
              "    <tr>\n",
              "      <th>4</th>\n",
              "      <td>5</td>\n",
              "      <td>1</td>\n",
              "      <td>7</td>\n",
              "      <td>18</td>\n",
              "      <td>36</td>\n",
              "      <td>2015-08-10 09:50:00</td>\n",
              "      <td>2</td>\n",
              "      <td>1994</td>\n",
              "      <td>1</td>\n",
              "      <td>1</td>\n",
              "      <td>1</td>\n",
              "      <td>12</td>\n",
              "      <td>NaN</td>\n",
              "      <td>1.0</td>\n",
              "      <td>2014.0</td>\n",
              "      <td>-1</td>\n",
              "      <td>2</td>\n",
              "      <td>NaN</td>\n",
              "      <td>70.0</td>\n",
              "      <td>0</td>\n",
              "      <td>0</td>\n",
              "      <td>0</td>\n",
              "      <td>0</td>\n",
              "      <td>1</td>\n",
              "      <td>0</td>\n",
              "      <td>0</td>\n",
              "      <td>0</td>\n",
              "      <td>0</td>\n",
              "      <td>NaN</td>\n",
              "      <td>165</td>\n",
              "      <td>110</td>\n",
              "      <td>5</td>\n",
              "      <td>5</td>\n",
              "      <td>3</td>\n",
              "      <td>2</td>\n",
              "      <td>3.0</td>\n",
              "      <td>1</td>\n",
              "      <td>3</td>\n",
              "      <td>4</td>\n",
              "      <td>2</td>\n",
              "      <td>...</td>\n",
              "      <td>NaN</td>\n",
              "      <td>NaN</td>\n",
              "      <td>NaN</td>\n",
              "      <td>NaN</td>\n",
              "      <td>1970</td>\n",
              "      <td>6</td>\n",
              "      <td>1</td>\n",
              "      <td>10</td>\n",
              "      <td>1972</td>\n",
              "      <td>4</td>\n",
              "      <td>1</td>\n",
              "      <td>15</td>\n",
              "      <td>3</td>\n",
              "      <td>2</td>\n",
              "      <td>3</td>\n",
              "      <td>-8</td>\n",
              "      <td>200000.0</td>\n",
              "      <td>4</td>\n",
              "      <td>3</td>\n",
              "      <td>3</td>\n",
              "      <td>3</td>\n",
              "      <td>5</td>\n",
              "      <td>5</td>\n",
              "      <td>3</td>\n",
              "      <td>4</td>\n",
              "      <td>3</td>\n",
              "      <td>3</td>\n",
              "      <td>3</td>\n",
              "      <td>3</td>\n",
              "      <td>2</td>\n",
              "      <td>2</td>\n",
              "      <td>50</td>\n",
              "      <td>50.0</td>\n",
              "      <td>50</td>\n",
              "      <td>50</td>\n",
              "      <td>50.0</td>\n",
              "      <td>50</td>\n",
              "      <td>50</td>\n",
              "      <td>50</td>\n",
              "      <td>50</td>\n",
              "    </tr>\n",
              "  </tbody>\n",
              "</table>\n",
              "<p>5 rows × 139 columns</p>\n",
              "</div>"
            ],
            "text/plain": [
              "   id  survey_type  ...  public_service_8  public_service_9\n",
              "0   1            1  ...                50                50\n",
              "1   2            2  ...                60                60\n",
              "2   3            2  ...                90                75\n",
              "3   4            2  ...                80                80\n",
              "4   5            1  ...                50                50\n",
              "\n",
              "[5 rows x 139 columns]"
            ]
          },
          "metadata": {
            "tags": []
          },
          "execution_count": 5
        }
      ]
    },
    {
      "cell_type": "code",
      "metadata": {
        "colab": {
          "base_uri": "https://localhost:8080/"
        },
        "id": "CBx7EPPMP7lC",
        "outputId": "eabd5ae3-12bc-4dd7-ea95-5275ce5d13db"
      },
      "source": [
        "data.count()"
      ],
      "execution_count": 6,
      "outputs": [
        {
          "output_type": "execute_result",
          "data": {
            "text/plain": [
              "id                  10956\n",
              "survey_type         10956\n",
              "province            10956\n",
              "city                10956\n",
              "county              10956\n",
              "                    ...  \n",
              "public_service_5    10956\n",
              "public_service_6    10956\n",
              "public_service_7    10956\n",
              "public_service_8    10956\n",
              "public_service_9    10956\n",
              "Length: 139, dtype: int64"
            ]
          },
          "metadata": {
            "tags": []
          },
          "execution_count": 6
        }
      ]
    },
    {
      "cell_type": "code",
      "metadata": {
        "colab": {
          "base_uri": "https://localhost:8080/"
        },
        "id": "m1J2DvErAAdh",
        "outputId": "01ab6b95-a644-47d1-c1fd-e5e4e7c76f21"
      },
      "source": [
        "train.happiness.unique()"
      ],
      "execution_count": 6,
      "outputs": [
        {
          "output_type": "execute_result",
          "data": {
            "text/plain": [
              "array([4, 5, 2, 3, 1])"
            ]
          },
          "metadata": {
            "tags": []
          },
          "execution_count": 6
        }
      ]
    },
    {
      "cell_type": "code",
      "metadata": {
        "colab": {
          "base_uri": "https://localhost:8080/",
          "height": 299
        },
        "id": "iudUC-_vAAQy",
        "outputId": "1e5d5638-011e-40e5-f5e2-92e7f5cf5f3a"
      },
      "source": [
        "train.happiness.groupby(by=train.province).mean().plot.bar()"
      ],
      "execution_count": 11,
      "outputs": [
        {
          "output_type": "execute_result",
          "data": {
            "text/plain": [
              "<matplotlib.axes._subplots.AxesSubplot at 0x7ff5f1128990>"
            ]
          },
          "metadata": {
            "tags": []
          },
          "execution_count": 11
        },
        {
          "output_type": "display_data",
          "data": {
            "image/png": "[encoded data removed]",
            "text/plain": [
              "<Figure size 432x288 with 1 Axes>"
            ]
          },
          "metadata": {
            "tags": [],
            "needs_background": "light"
          }
        }
      ]
    },
    {
      "cell_type": "code",
      "metadata": {
        "colab": {
          "base_uri": "https://localhost:8080/",
          "height": 293
        },
        "id": "JjBl3JAsBbKj",
        "outputId": "d47a1ccc-104f-478c-94ff-e293e4d8d62a"
      },
      "source": [
        "ax = train.income.groupby(by=train.happiness).mean().plot.bar(x='income',y='happiness')\n",
        "ax.set_ylabel('mean income')"
      ],
      "execution_count": 31,
      "outputs": [
        {
          "output_type": "execute_result",
          "data": {
            "text/plain": [
              "Text(0, 0.5, 'mean income')"
            ]
          },
          "metadata": {
            "tags": []
          },
          "execution_count": 31
        },
        {
          "output_type": "display_data",
          "data": {
            "image/png": "[encoded data removed]",
            "text/plain": [
              "<Figure size 432x288 with 1 Axes>"
            ]
          },
          "metadata": {
            "tags": [],
            "needs_background": "light"
          }
        }
      ]
    },
    {
      "cell_type": "code",
      "metadata": {
        "colab": {
          "base_uri": "https://localhost:8080/",
          "height": 293
        },
        "id": "al2Y03DqBbAx",
        "outputId": "bc718cd6-7f9f-4447-bebd-dcaf3d6fc6f8"
      },
      "source": [
        "ax1 = train.marital.groupby(by=train.happiness).mean().plot.bar()\n",
        "ax1.set_ylabel('mean marital')"
      ],
      "execution_count": 26,
      "outputs": [
        {
          "output_type": "execute_result",
          "data": {
            "text/plain": [
              "Text(0, 0.5, 'mean marital')"
            ]
          },
          "metadata": {
            "tags": []
          },
          "execution_count": 26
        },
        {
          "output_type": "display_data",
          "data": {
            "image/png": "[encoded data removed]",
            "text/plain": [
              "<Figure size 432x288 with 1 Axes>"
            ]
          },
          "metadata": {
            "tags": [],
            "needs_background": "light"
          }
        }
      ]
    },
    {
      "cell_type": "code",
      "metadata": {
        "colab": {
          "base_uri": "https://localhost:8080/",
          "height": 296
        },
        "id": "Z5bujQ5uCyhH",
        "outputId": "8d226560-c75a-4bf9-dd2e-76692a5b50f5"
      },
      "source": [
        "ax2 = train.happiness.groupby(by=train.depression).median() .plot.bar()\n",
        "ax2.set_ylabel('mean happiness')\n"
      ],
      "execution_count": 45,
      "outputs": [
        {
          "output_type": "execute_result",
          "data": {
            "text/plain": [
              "Text(0, 0.5, 'mean happiness')"
            ]
          },
          "metadata": {
            "tags": []
          },
          "execution_count": 45
        },
        {
          "output_type": "display_data",
          "data": {
            "image/png": "[encoded data removed]",
            "text/plain": [
              "<Figure size 432x288 with 1 Axes>"
            ]
          },
          "metadata": {
            "tags": [],
            "needs_background": "light"
          }
        }
      ]
    },
    {
      "cell_type": "code",
      "metadata": {
        "colab": {
          "base_uri": "https://localhost:8080/"
        },
        "id": "S9GARqF5E65y",
        "outputId": "6cef6be5-5970-4947-d516-545f06818181"
      },
      "source": [
        "# train.political.unique()"
      ],
      "execution_count": 36,
      "outputs": [
        {
          "output_type": "execute_result",
          "data": {
            "text/plain": [
              "array([ 1,  2,  4, -8,  3])"
            ]
          },
          "metadata": {
            "tags": []
          },
          "execution_count": 36
        }
      ]
    },
    {
      "cell_type": "code",
      "metadata": {
        "colab": {
          "base_uri": "https://localhost:8080/",
          "height": 279
        },
        "id": "jK0uXhJPEtWJ",
        "outputId": "b3594e1b-dc2c-42c3-aa30-2b9570d9b44e"
      },
      "source": [
        "ax1 = sns.countplot(x= train.political,hue=train.happiness)\n"
      ],
      "execution_count": 41,
      "outputs": [
        {
          "output_type": "display_data",
          "data": {
            "image/png": "[encoded data removed]",
            "text/plain": [
              "<Figure size 432x288 with 1 Axes>"
            ]
          },
          "metadata": {
            "tags": [],
            "needs_background": "light"
          }
        }
      ]
    },
    {
      "cell_type": "code",
      "metadata": {
        "colab": {
          "base_uri": "https://localhost:8080/",
          "height": 296
        },
        "id": "1wX6pK68Gneb",
        "outputId": "0b1efa26-7d3e-4121-f4ef-ed8ba51828a4"
      },
      "source": [
        "ax1 = sns.countplot(x= train.relax,hue=train.happiness)\n",
        "# ax1 = train.happiness.groupby(by=train.relax).mean().plot.bar()\n",
        "ax1.set_ylabel('happiness count')"
      ],
      "execution_count": 53,
      "outputs": [
        {
          "output_type": "execute_result",
          "data": {
            "text/plain": [
              "Text(0, 0.5, 'happiness count')"
            ]
          },
          "metadata": {
            "tags": []
          },
          "execution_count": 53
        },
        {
          "output_type": "display_data",
          "data": {
            "image/png": "[encoded data removed]",
            "text/plain": [
              "<Figure size 432x288 with 1 Axes>"
            ]
          },
          "metadata": {
            "tags": [],
            "needs_background": "light"
          }
        }
      ]
    },
    {
      "cell_type": "code",
      "metadata": {
        "colab": {
          "base_uri": "https://localhost:8080/",
          "height": 280
        },
        "id": "-7ZIjLVgGm5I",
        "outputId": "39c8df8d-a6dc-4970-93c0-b50093f46d9c"
      },
      "source": [
        "# ax1 = sns.countplot(x= train.relax,hue=train.happiness)\n",
        "ax1 = sns.countplot(x= train.edu_status,hue=train.happiness)\n",
        "# train.happiness.groupby(by=train.edu_status).sum().plot.bar()"
      ],
      "execution_count": 65,
      "outputs": [
        {
          "output_type": "display_data",
          "data": {
            "image/png": "[encoded data removed]",
            "text/plain": [
              "<Figure size 432x288 with 1 Axes>"
            ]
          },
          "metadata": {
            "tags": [],
            "needs_background": "light"
          }
        }
      ]
    },
    {
      "cell_type": "markdown",
      "metadata": {
        "id": "T0JSpEViDhQC"
      },
      "source": [
        "简单分析了几个个feature，一下几点\n",
        "+ 发现收入越高越开心\n",
        "+ 越开心时婚姻关系好像有点不好，反倒大多数人越开心压力越大，有点意思，可能是因为带来开心的来源往往会伴随更大的压力。\n",
        "+ 越是和政治相关越是不开心，出来混不容易啊\n",
        "+ 适度放松会适度开心，过度放松(5)会不太开心，可能过度放纵没意思了吧\n",
        "+ 大多数调查的人的教育程度也是挺高的而且还挺开心。但是教育程度很低就不太开心了"
      ]
    },
    {
      "cell_type": "code",
      "metadata": {
        "id": "G2FoZg7YCyVs"
      },
      "source": [
        ""
      ],
      "execution_count": 21,
      "outputs": []
    },
    {
      "cell_type": "markdown",
      "metadata": {
        "id": "nur_PXK3RgiH"
      },
      "source": [
        "# 2. Data Preprocessing"
      ]
    },
    {
      "cell_type": "code",
      "metadata": {
        "id": "atw7cdONQbyK"
      },
      "source": [
        "#make feature +5\n",
        "#csv中有复数值：-1、-2、-3、-8，将他们视为有问题的特征，但是不删去\n",
        "def getres1(row):\n",
        "  return len([x for x in row.values if type(x)==int and x<0])\n",
        "def getres2(row):\n",
        "  return len([x for x in row.values if type(x)==int and x==-8])\n",
        "def getres3(row):\n",
        "  return len([x for x in row.values if type(x)==int and x==-1])\n",
        "def getres4(row):\n",
        "  return len([x for x in row.values if type(x)==int and x==-2])\n",
        "def getres5(row):\n",
        "  return len([x for x in row.values if type(x)==int and x==-3])\n"
      ],
      "execution_count": 7,
      "outputs": []
    },
    {
      "cell_type": "code",
      "metadata": {
        "id": "1tlhcLG4Qprn"
      },
      "source": [
        "#检查数据\n",
        "data['neg1'] = data[data.columns].apply(lambda row:getres1(row),axis=1)\n",
        "data.loc[data['neg1']>20,'neg1'] = 20 #平滑处理,最多出现20次\n",
        "data['neg2'] = data[data.columns].apply(lambda row:getres2(row),axis=1)\n",
        "data['neg3'] = data[data.columns].apply(lambda row:getres3(row),axis=1)\n",
        "data['neg4'] = data[data.columns].apply(lambda row:getres4(row),axis=1)\n",
        "data['neg5'] = data[data.columns].apply(lambda row:getres5(row),axis=1)"
      ],
      "execution_count": 8,
      "outputs": []
    },
    {
      "cell_type": "code",
      "metadata": {
        "id": "gScnDuEoQpo0"
      },
      "source": [
        "work_cols = [i for i in data.columns if 'work' in i.split('_')[0]] # columns start with work_\n",
        "s_cols = [i for i in data.columns if 's' == i.split('_')[0]] # columns start with s_\n",
        "edu_cols = [i for i in data.columns if 'edu' == i.split('_')[0]] # columns start with s_\n",
        "\n",
        "for col in work_cols:\n",
        "  data[col]= data[col].fillna(0)\n",
        "for col in s_cols:\n",
        "  data[col]= data[col].fillna(0)\n",
        "\n",
        "for col in ['edu_yr', 'edu_status','minor_child','marital_now','marital_1st','social_neighbor','social_friend']:\n",
        "  data[col]= data[col].fillna(0)\n",
        "\n",
        "data['hukou_loc']=data['hukou_loc'].fillna(1) #最少为1，表示户口\n",
        "data['family_income']=data['family_income'].fillna(66365) #删除问题值后的平均值\n",
        "\n"
      ],
      "execution_count": 9,
      "outputs": []
    },
    {
      "cell_type": "code",
      "metadata": {
        "id": "AmgbPrNxQplh"
      },
      "source": [
        "# #填充缺失值 共25列 去掉4列 填充21列\n",
        "# #以下的列都是缺省的，视情况填补\n",
        "# data['work_status'] = data['work_status'].fillna(0)\n",
        "# data['work_yr'] = data['work_yr'].fillna(0)\n",
        "# data['work_manage'] = data['work_manage'].fillna(0)\n",
        "# data['work_type'] = data['work_type'].fillna(0)\n",
        "# data['edu_yr'] = data['edu_yr'].fillna(0)\n",
        "# data['edu_status'] = data['edu_status'].fillna(0)\n",
        "\n",
        "# data['s_work_type'] = data['s_work_type'].fillna(0)\n",
        "# data['s_work_status'] = data['s_work_status'].fillna(0)\n",
        "# data['s_political'] = data['s_political'].fillna(0)\n",
        "# data['s_hukou'] = data['s_hukou'].fillna(0)\n",
        "# data['s_income'] = data['s_income'].fillna(0)\n",
        "# data['s_birth'] = data['s_birth'].fillna(0)\n",
        "# data['s_edu'] = data['s_edu'].fillna(0)\n",
        "# data['s_work_exper'] = data['s_work_exper'].fillna(0)\n",
        "\n",
        "# data['minor_child'] = data['minor_child'].fillna(0)\n",
        "# data['marital_now'] = data['marital_now'].fillna(0)\n",
        "# data['marital_1st'] = data['marital_1st'].fillna(0)\n",
        "# data['social_neighbor']=data['social_neighbor'].fillna(0)\n",
        "# data['social_friend']=data['social_friend'].fillna(0)\n",
        "\n",
        "# data['hukou_loc']=data['hukou_loc'].fillna(1) #最少为1，表示户口\n",
        "# data['family_income']=data['family_income'].fillna(66365) #删除问题值后的平均值"
      ],
      "execution_count": 10,
      "outputs": []
    },
    {
      "cell_type": "markdown",
      "metadata": {
        "id": "MhQPNPOAVeOK"
      },
      "source": [
        "## 2.2 对特殊数据进行特殊处理\n",
        "- 通过生日和调查时间计算年龄\n",
        "- 把年龄分区"
      ]
    },
    {
      "cell_type": "code",
      "metadata": {
        "id": "LfM0O5jlQpiv"
      },
      "source": [
        "#144+1 =145\n",
        "#继续进行特殊的列进行数据处理\n",
        "#读happiness_index.xlsx\n",
        "data['survey_time'] = pd.to_datetime(data['survey_time'], format='%Y-%m-%d',errors='coerce')#防止时间格式不同的报错errors='coerce‘\n",
        "data['survey_time'] = data['survey_time'].dt.year #仅仅是year，方便计算年龄\n",
        "data['age'] = data['survey_time']-data['birth']\n",
        "# print(data['age'],data['survey_time'],data['birth'])\n",
        "#年龄分层 145+1=146\n",
        "bins = [0,17,26,34,50,63,100]\n",
        "data['age_bin'] = pd.cut(data['age'], bins, labels=[0,1,2,3,4,5])"
      ],
      "execution_count": 11,
      "outputs": []
    },
    {
      "cell_type": "code",
      "metadata": {
        "colab": {
          "base_uri": "https://localhost:8080/"
        },
        "id": "-KyPNEcrXe3F",
        "outputId": "e4d3eb68-896d-40e0-c078-4c0319b14220"
      },
      "source": [
        "data['religion'].unique(), data['religion_freq'].unique()"
      ],
      "execution_count": 12,
      "outputs": [
        {
          "output_type": "execute_result",
          "data": {
            "text/plain": [
              "(array([ 1,  0, -8]), array([ 1,  3,  8,  4,  2,  9,  6, -8,  7,  5]))"
            ]
          },
          "metadata": {
            "tags": []
          },
          "execution_count": 12
        }
      ]
    },
    {
      "cell_type": "code",
      "metadata": {
        "id": "hauaj9tCX2D6"
      },
      "source": [
        ""
      ],
      "execution_count": 12,
      "outputs": []
    },
    {
      "cell_type": "markdown",
      "metadata": {
        "id": "HmE_kshDXPKp"
      },
      "source": [
        "# 对一些异常的特征进行处理"
      ]
    },
    {
      "cell_type": "code",
      "metadata": {
        "id": "0lsrsLftQpf4"
      },
      "source": [
        "#对‘宗教’处理\n",
        "data.loc[data['religion']<0,'religion'] = 1 #1为不信仰宗教\n",
        "data.loc[data['religion_freq']<0,'religion_freq'] = 1 #1为从来没有参加过\n",
        "#对‘教育程度’处理\n",
        "data.loc[data['edu']<0,'edu'] = 4 #初中\n",
        "data.loc[data['edu_status']<0,'edu_status'] = 0\n",
        "data.loc[data['edu_yr']<0,'edu_yr'] = 0\n",
        "#对‘个人收入’处理\n",
        "data.loc[data['income']<0,'income'] = 0 #认为无收入\n",
        "#对‘政治面貌’处理\n",
        "data.loc[data['political']<0,'political'] = 1 #认为是群众\n",
        "#对体重处理\n",
        "data.loc[(data['weight_jin']<=80)&(data['height_cm']>=160),'weight_jin']= data['weight_jin']*2\n",
        "data.loc[data['weight_jin']<=60,'weight_jin']= data['weight_jin']*2 #个人的想法，哈哈哈，没有60斤的成年人吧\n",
        "#对身高处理\n",
        "data.loc[data['height_cm']<150,'height_cm'] = 150 #成年人的实际情况\n",
        "#对‘健康’处理\n",
        "data.loc[data['health']<0,'health'] = 4 #认为是比较健康\n",
        "data.loc[data['health_problem']<0,'health_problem'] = 4\n",
        "#对‘沮丧’处理\n",
        "data.loc[data['depression']<0,'depression'] = 4 #一般人都是很少吧\n",
        "#对‘媒体’处理\n",
        "data.loc[data['media_1']<0,'media_1'] = 1 #都是从不\n",
        "data.loc[data['media_2']<0,'media_2'] = 1\n",
        "data.loc[data['media_3']<0,'media_3'] = 1\n",
        "data.loc[data['media_4']<0,'media_4'] = 1\n",
        "data.loc[data['media_5']<0,'media_5'] = 1\n",
        "data.loc[data['media_6']<0,'media_6'] = 1\n",
        "#对‘空闲活动’处理\n",
        "data.loc[data['leisure_1']<0,'leisure_1'] = 1 #都是根据自己的想法\n",
        "data.loc[data['leisure_2']<0,'leisure_2'] = 5\n",
        "data.loc[data['leisure_3']<0,'leisure_3'] = 3"
      ],
      "execution_count": 13,
      "outputs": []
    },
    {
      "cell_type": "code",
      "metadata": {
        "id": "zo-jBns2WCbp"
      },
      "source": [
        "# 用众数对outlier进行填补\n",
        "data.loc[data['leisure_4']<0,'leisure_4'] = data['leisure_4'].mode() #取众数\n",
        "data.loc[data['leisure_5']<0,'leisure_5'] = data['leisure_5'].mode()\n",
        "data.loc[data['leisure_6']<0,'leisure_6'] = data['leisure_6'].mode()\n",
        "data.loc[data['leisure_7']<0,'leisure_7'] = data['leisure_7'].mode()\n",
        "data.loc[data['leisure_8']<0,'leisure_8'] = data['leisure_8'].mode()\n",
        "data.loc[data['leisure_9']<0,'leisure_9'] = data['leisure_9'].mode()\n",
        "data.loc[data['leisure_10']<0,'leisure_10'] = data['leisure_10'].mode()\n",
        "data.loc[data['leisure_11']<0,'leisure_11'] = data['leisure_11'].mode()\n",
        "data.loc[data['leisure_12']<0,'leisure_12'] = data['leisure_12'].mode()\n",
        "\n",
        "data.loc[data['socialize']<0,'socialize'] = 2 #很少\n",
        "data.loc[data['relax']<0,'relax'] = 4 #经常\n",
        "data.loc[data['learn']<0,'learn'] = 1 #从不，哈哈哈哈\n",
        "#对‘社交’处理\n",
        "data.loc[data['social_neighbor']<0,'social_neighbor'] = 0\n",
        "data.loc[data['social_friend']<0,'social_friend'] = 0\n",
        "data.loc[data['socia_outing']<0,'socia_outing'] = 1\n",
        "data.loc[data['neighbor_familiarity']<0,'social_neighbor']= 4\n",
        "#对‘社会公平性’处理\n",
        "data.loc[data['equity']<0,'equity'] = 4\n",
        "\n",
        "#对‘社会等级’处理\n",
        "data.loc[data['class_10_before']<0,'class_10_before'] = 3\n",
        "data.loc[data['class']<0,'class'] = 5\n",
        "data.loc[data['class_10_after']<0,'class_10_after'] = 5\n",
        "data.loc[data['class_14']<0,'class_14'] = 2"
      ],
      "execution_count": 14,
      "outputs": []
    },
    {
      "cell_type": "code",
      "metadata": {
        "id": "GFcmfQJzZ2sd"
      },
      "source": [
        "\n",
        "#对‘工作情况’处理\n",
        "data.loc[data['work_status']<0,'work_status'] = 0\n",
        "data.loc[data['work_yr']<0,'work_yr'] = 0\n",
        "data.loc[data['work_manage']<0,'work_manage'] = 0\n",
        "data.loc[data['work_type']<0,'work_type'] = 0\n",
        "#对‘社会保障’处理\n",
        "data.loc[data['insur_1']<0,'insur_1'] = 1\n",
        "data.loc[data['insur_2']<0,'insur_2'] = 1\n",
        "data.loc[data['insur_3']<0,'insur_3'] = 1\n",
        "data.loc[data['insur_4']<0,'insur_4'] = 1\n",
        "data.loc[data['insur_1']==0,'insur_1'] = 0\n",
        "data.loc[data['insur_2']==0,'insur_2'] = 0\n",
        "data.loc[data['insur_3']==0,'insur_3'] = 0\n",
        "data.loc[data['insur_4']==0,'insur_4'] = 0"
      ],
      "execution_count": 15,
      "outputs": []
    },
    {
      "cell_type": "markdown",
      "metadata": {
        "id": "cepG3XwYaKdr"
      },
      "source": [
        "对连续值进行missing value的补全，这里使用mean value"
      ]
    },
    {
      "cell_type": "code",
      "metadata": {
        "id": "mih93gzSaB3U"
      },
      "source": [
        "#对家庭情况处理\n",
        "family_income_mean = data['family_income'].mean()\n",
        "data.loc[data['family_income']<0,'family_income'] = family_income_mean\n",
        "# outlier 处理\n",
        "data.loc[data['family_m']<0,'family_m'] = 2\n",
        "data.loc[data['family_status']<0,'family_status'] = 3\n",
        "data.loc[data['house']<0,'house'] = 1\n",
        "data.loc[data['car']<0,'car'] = 0\n",
        "data.loc[data['car']==2,'car'] = 0\n",
        "data.loc[data['son']<0,'son'] = 1\n",
        "data.loc[data['daughter']<0,'daughter'] = 0\n",
        "data.loc[data['minor_child']<0,'minor_child'] = 0\n",
        "#对‘婚姻’处理\n",
        "data.loc[data['marital_1st']<0,'marital_1st'] = 0\n",
        "data.loc[data['marital_now']<0,'marital_now'] = 0\n",
        "#对‘配偶’处理\n",
        "data.loc[data['s_birth']<0,'s_birth'] = 0\n",
        "data.loc[data['s_edu']<0,'s_edu'] = 0\n",
        "data.loc[data['s_political']<0,'s_political'] = 0\n",
        "data.loc[data['s_hukou']<0,'s_hukou'] = 0\n",
        "data.loc[data['s_income']<0,'s_income'] = 0\n",
        "data.loc[data['s_work_type']<0,'s_work_type'] = 0\n",
        "data.loc[data['s_work_status']<0,'s_work_status'] = 0\n",
        "data.loc[data['s_work_exper']<0,'s_work_exper'] = 0\n",
        "#对‘父母情况’处理\n",
        "data.loc[data['f_birth']<0,'f_birth'] = 1945\n",
        "data.loc[data['f_edu']<0,'f_edu'] = 1\n",
        "data.loc[data['f_political']<0,'f_political'] = 1\n",
        "data.loc[data['f_work_14']<0,'f_work_14'] = 2\n",
        "data.loc[data['m_birth']<0,'m_birth'] = 1940\n",
        "data.loc[data['m_edu']<0,'m_edu'] = 1\n",
        "data.loc[data['m_political']<0,'m_political'] = 1\n",
        "data.loc[data['m_work_14']<0,'m_work_14'] = 2\n",
        "#和同龄人相比社会经济地位\n",
        "data.loc[data['status_peer']<0,'status_peer'] = 2\n",
        "#和3年前比社会经济地位\n",
        "data.loc[data['status_3_before']<0,'status_3_before'] = 2\n",
        "#对‘观点’处理\n",
        "data.loc[data['view']<0,'view'] = 4\n",
        "#对期望年收入处理\n",
        "data.loc[data['inc_ability']<=0,'inc_ability']= 2\n",
        "inc_exp_mean = data['inc_exp'].mean()\n",
        "data.loc[data['inc_exp']<=0,'inc_exp']= inc_exp_mean #取均值\n",
        "\n",
        "#部分特征处理，取众数\n",
        "for i in range(1,9+1):\n",
        "  data.loc[data['public_service_'+str(i)]<0,'public_service_'+str(i)] =data['public_service_'+str(i)].dropna().mode()#.values\n",
        "  data.loc[data['public_service_'+str(i)]<0,'public_service_'+str(i)] = data.loc[data['public_service_'+str(i)]<0,'public_service_'+str(i)].dropna()\n",
        "for i in range(1,13+1):\n",
        "  data.loc[data['trust_'+str(i)]<0,'trust_'+str(i)] = data['trust_'+str(i)].dropna().mode()#.values\n",
        "  data.loc[data['trust_'+str(i)]<0,'trust_'+str(i)] = data.loc[data['trust_'+str(i)]<0,'trust_'+str(i)].dropna()"
      ],
      "execution_count": 16,
      "outputs": []
    },
    {
      "cell_type": "markdown",
      "metadata": {
        "id": "496cdLx_cba8"
      },
      "source": [
        "# 特征的组合和扩增\n",
        "这里考虑添加以下数据来考虑和幸福度的关系:\n",
        " 第一次结婚年龄、最近结婚年龄、是否再婚、配偶年龄、配偶年龄差、各种收入比（与配偶之间的收入比、十年后预期收入与现在收入之比等等）、收入与住房面积\n",
        "比（其中也包括10年后期望收入等等各种情况）、社会阶级（10年后的社会阶级、14年后的社会阶级等等）、悠闲指数、满意指数、信任指\n",
        "数等等。除此之外，我还考虑了对于同一省、市、县进行了归一化。例如同一省市内的收入的平均值等以及一个个体相对于同省、市、县其\n",
        "他人的各个指标的情况。同时也考虑了对于同龄人之间的相互比较，即在同龄人中的收入情况、健康情况等等。具体的实现代码如下："
      ]
    },
    {
      "cell_type": "code",
      "metadata": {
        "id": "lSmVS0c9a67t"
      },
      "source": [
        "#第一次结婚年龄 147\n",
        "data['marital_1stbir'] = data['marital_1st'] - data['birth']\n",
        "#最近结婚年龄 148\n",
        "data['marital_nowtbir'] = data['marital_now'] - data['birth']\n",
        "#是否再婚 149\n",
        "data['mar'] = data['marital_nowtbir'] - data['marital_1stbir']\n",
        "\n",
        "#配偶年龄 150\n",
        "data['marital_sbir'] = data['marital_now']-data['s_birth']\n",
        "#配偶年龄差 151\n",
        "data['age_'] = data['marital_nowtbir'] - data['marital_sbir']\n",
        "#收入比 151+7 =158\n",
        "data['income/s_income'] = data['income']/(data['s_income']+1)\n",
        "data['income+s_income'] = data['income']+(data['s_income']+1)\n",
        "data['income/family_income'] = data['income']/(data['family_income']+1)\n",
        "data['all_income/family_income'] = (data['income']+data['s_income'])/(data['family_income']+1)\n",
        "data['income/inc_exp'] = data['income']/(data['inc_exp']+1)\n",
        "data['family_income/m'] = data['family_income']/(data['family_m']+0.01)\n",
        "data['income/m'] = data['income']/(data['family_m']+0.01)\n",
        "\n",
        "#收入/面积比 158+4=162\n",
        "data['income/floor_area'] = data['income']/(data['floor_area']+0.01)\n",
        "data['all_income/floor_area'] = (data['income']+data['s_income'])/(data['floor_area']+0.01)\n",
        "data['family_income/floor_area'] = data['family_income']/(data['floor_area']+0.01)\n",
        "data['floor_area/m'] = data['floor_area']/(data['family_m']+0.01)\n",
        "\n",
        "#class 162+3=165\n",
        "data['class_10_diff'] = (data['class_10_after'] - data['class'])\n",
        "data['class_diff'] = data['class'] - data['class_10_before']\n",
        "data['class_14_diff'] = data['class'] - data['class_14']\n",
        "#悠闲指数 166\n",
        "leisure_fea_lis = ['leisure_'+str(i) for i in range(1,13)]\n",
        "data['leisure_sum'] = data[leisure_fea_lis].sum(axis=1) #skew\n",
        "#满意指数 167\n",
        "public_service_fea_lis = ['public_service_'+str(i) for i in range(1,10)]\n",
        "data['public_service_sum'] = data[public_service_fea_lis].sum(axis=1) #skew\n",
        "\n",
        "#信任指数 168\n",
        "trust_fea_lis = ['trust_'+str(i) for i in range(1,14)]\n",
        "data['trust_sum'] = data[trust_fea_lis].sum(axis=1) #skew\n",
        "#province mean 168+13=181\n",
        "data['province_income_mean'] = data.groupby(['province'])['income'].transform('mean').values\n",
        "data['province_family_income_mean'] = data.groupby(['province'])['family_income'].transform('mean').values\n",
        "data['province_equity_mean'] = data.groupby(['province'])['equity'].transform('mean').values\n",
        "data['province_depression_mean'] = data.groupby(['province'])['depression'].transform('mean').values\n",
        "data['province_floor_area_mean'] = data.groupby(['province'])['floor_area'].transform('mean').values\n",
        "data['province_health_mean'] = data.groupby(['province'])['health'].transform('mean').values\n",
        "data['province_class_10_diff_mean'] = data.groupby(['province'])['class_10_diff'].transform('mean').values\n",
        "data['province_class_mean'] = data.groupby(['province'])['class'].transform('mean').values\n",
        "data['province_health_problem_mean'] = data.groupby(['province'])['health_problem'].transform('mean').values\n",
        "data['province_family_status_mean'] = data.groupby(['province'])['family_status'].transform('mean').values\n",
        "data['province_leisure_sum_mean'] = data.groupby(['province'])['leisure_sum'].transform('mean').values\n",
        "data['province_public_service_sum_mean'] = data.groupby(['province'])['public_service_sum'].transform('mean').values\n",
        "data['province_trust_sum_mean'] = data.groupby(['province'])['trust_sum'].transform('mean').values\n",
        "\n",
        "#city mean 181+13=194\n",
        "data['city_income_mean'] = data.groupby(['city'])['income'].transform('mean').values\n",
        "data['city_family_income_mean'] = data.groupby(['city'])['family_income'].transform('mean').values\n",
        "data['city_equity_mean'] = data.groupby(['city'])['equity'].transform('mean').values\n",
        "data['city_depression_mean'] = data.groupby(['city'])['depression'].transform('mean').values\n",
        "data['city_floor_area_mean'] = data.groupby(['city'])['floor_area'].transform('mean').values\n",
        "data['city_health_mean'] = data.groupby(['city'])['health'].transform('mean').values\n",
        "data['city_class_10_diff_mean'] = data.groupby(['city'])['class_10_diff'].transform('mean').values\n",
        "data['city_class_mean'] = data.groupby(['city'])['class'].transform('mean').values\n",
        "data['city_health_problem_mean'] = data.groupby(['city'])['health_problem'].transform('mean').values\n",
        "data['city_family_status_mean'] = data.groupby(['city'])['family_status'].transform('mean').values\n",
        "data['city_leisure_sum_mean'] = data.groupby(['city'])['leisure_sum'].transform('mean').values\n",
        "data['city_public_service_sum_mean'] = data.groupby(['city'])['public_service_sum'].transform('mean').values\n",
        "data['city_trust_sum_mean'] = data.groupby(['city'])['trust_sum'].transform('mean').values\n",
        "#county mean 194 + 13 = 207\n",
        "data['county_income_mean'] = data.groupby(['county'])['income'].transform('mean').values\n",
        "data['county_family_income_mean'] = data.groupby(['county'])['family_income'].transform('mean').values\n",
        "data['county_equity_mean'] = data.groupby(['county'])['equity'].transform('mean').values\n",
        "data['county_depression_mean'] = data.groupby(['county'])['depression'].transform('mean').values\n",
        "data['county_floor_area_mean'] = data.groupby(['county'])['floor_area'].transform('mean').values\n",
        "data['county_health_mean'] = data.groupby(['county'])['health'].transform('mean').values\n",
        "data['county_class_10_diff_mean'] = data.groupby(['county'])['class_10_diff'].transform('mean').values\n",
        "data['county_class_mean'] = data.groupby(['county'])['class'].transform('mean').values\n",
        "data['county_health_problem_mean'] = data.groupby(['county'])['health_problem'].transform('mean').values\n",
        "data['county_family_status_mean'] = data.groupby(['county'])['family_status'].transform('mean').values\n",
        "data['county_leisure_sum_mean'] = data.groupby(['county'])['leisure_sum'].transform('mean').values\n",
        "data['county_public_service_sum_mean'] = data.groupby(['county'])['public_service_sum'].transform('mean').values\n",
        "data['county_trust_sum_mean'] = data.groupby(['county'])['trust_sum'].transform('mean').values\n",
        "\n",
        "#ratio 相比同省 207 + 13 =220\n",
        "data['income/province'] = data['income']/(data['province_income_mean'])\n",
        "data['family_income/province'] = data['family_income']/(data['province_family_income_mean'])\n",
        "data['equity/province'] = data['equity']/(data['province_equity_mean'])\n",
        "data['depression/province'] = data['depression']/(data['province_depression_mean'])\n",
        "data['floor_area/province'] = data['floor_area']/(data['province_floor_area_mean'])\n",
        "data['health/province'] = data['health']/(data['province_health_mean'])\n",
        "data['class_10_diff/province'] = data['class_10_diff']/(data['province_class_10_diff_mean'])\n",
        "data['class/province'] = data['class']/(data['province_class_mean'])\n",
        "data['health_problem/province'] = data['health_problem']/(data['province_health_problem_mean'])\n",
        "data['family_status/province'] = data['family_status']/(data['province_family_status_mean'])\n",
        "data['leisure_sum/province'] = data['leisure_sum']/(data['province_leisure_sum_mean'])\n",
        "data['public_service_sum/province'] = data['public_service_sum']/(data['province_public_service_sum_mean'])\n",
        "data['trust_sum/province'] = data['trust_sum']/(data['province_trust_sum_mean']+1)\n",
        "#ratio 相比同市 220 + 13 =233\n",
        "data['income/city'] = data['income']/(data['city_income_mean'])\n",
        "data['family_income/city'] = data['family_income']/(data['city_family_income_mean'])\n",
        "data['equity/city'] = data['equity']/(data['city_equity_mean'])\n",
        "data['depression/city'] = data['depression']/(data['city_depression_mean'])\n",
        "data['floor_area/city'] = data['floor_area']/(data['city_floor_area_mean'])\n",
        "data['health/city'] = data['health']/(data['city_health_mean'])\n",
        "data['class_10_diff/city'] = data['class_10_diff']/(data['city_class_10_diff_mean'])\n",
        "data['class/city'] = data['class']/(data['city_class_mean'])\n",
        "data['health_problem/city'] = data['health_problem']/(data['city_health_problem_mean'])\n",
        "data['family_status/city'] = data['family_status']/(data['city_family_status_mean'])\n",
        "data['leisure_sum/city'] = data['leisure_sum']/(data['city_leisure_sum_mean'])\n",
        "data['public_service_sum/city'] = data['public_service_sum']/(data['city_public_service_sum_mean'])\n",
        "data['trust_sum/city'] = data['trust_sum']/(data['city_trust_sum_mean'])\n",
        "#ratio 相比同个地区 233 + 13 =246\n",
        "data['income/county'] = data['income']/(data['county_income_mean'])\n",
        "data['family_income/county'] = data['family_income']/(data['county_family_income_mean'])\n",
        "data['equity/county'] = data['equity']/(data['county_equity_mean'])\n",
        "data['depression/county'] = data['depression']/(data['county_depression_mean'])\n",
        "data['floor_area/county'] = data['floor_area']/(data['county_floor_area_mean'])\n",
        "data['health/county'] = data['health']/(data['county_health_mean'])\n",
        "data['class_10_diff/county'] = data['class_10_diff']/(data['county_class_10_diff_mean'])\n",
        "data['class/county'] = data['class']/(data['county_class_mean'])\n",
        "data['health_problem/county'] = data['health_problem']/(data['county_health_problem_mean'])\n",
        "data['family_status/county'] = data['family_status']/(data['county_family_status_mean'])\n",
        "data['leisure_sum/county'] = data['leisure_sum']/(data['county_leisure_sum_mean'])\n",
        "data['public_service_sum/county'] = data['public_service_sum']/(data['county_public_service_sum_mean'])\n",
        "data['trust_sum/county'] = data['trust_sum']/(data['county_trust_sum_mean'])\n",
        "#age mean 246+ 13 =259\n",
        "data['age_income_mean'] = data.groupby(['age'])['income'].transform('mean').values\n",
        "data['age_family_income_mean'] = data.groupby(['age'])['family_income'].transform('mean').values\n",
        "data['age_equity_mean'] = data.groupby(['age'])['equity'].transform('mean').values\n",
        "data['age_depression_mean'] = data.groupby(['age'])['depression'].transform('mean').values\n",
        "data['age_floor_area_mean'] = data.groupby(['age'])['floor_area'].transform('mean').values\n",
        "data['age_health_mean'] = data.groupby(['age'])['health'].transform('mean').values\n",
        "data['age_class_10_diff_mean'] = data.groupby(['age'])['class_10_diff'].transform('mean').values\n",
        "data['age_class_mean'] = data.groupby(['age'])['class'].transform('mean').values\n",
        "data['age_health_problem_mean'] = data.groupby(['age'])['health_problem'].transform('mean').values\n",
        "data['age_family_status_mean'] = data.groupby(['age'])['family_status'].transform('mean').values\n",
        "data['age_leisure_sum_mean'] = data.groupby(['age'])['leisure_sum'].transform('mean').values\n",
        "data['age_public_service_sum_mean'] = data.groupby(['age'])['public_service_sum'].transform('mean').values\n",
        "data['age_trust_sum_mean'] = data.groupby(['age'])['trust_sum'].transform('mean').values\n",
        "# 和同龄人相比259 + 13 =272\n",
        "data['income/age'] = data['income']/(data['age_income_mean'])\n",
        "data['family_income/age'] = data['family_income']/(data['age_family_income_mean'])\n",
        "data['equity/age'] = data['equity']/(data['age_equity_mean'])\n",
        "data['depression/age'] = data['depression']/(data['age_depression_mean'])\n",
        "data['floor_area/age'] = data['floor_area']/(data['age_floor_area_mean'])\n",
        "data['health/age'] = data['health']/(data['age_health_mean'])\n",
        "data['class_10_diff/age'] = data['class_10_diff']/(data['age_class_10_diff_mean'])\n",
        "data['class/age'] = data['class']/(data['age_class_mean'])\n",
        "data['health_problem/age'] = data['health_problem']/(data['age_health_problem_mean'])\n",
        "data['family_status/age'] = data['family_status']/(data['age_family_status_mean'])\n",
        "data['leisure_sum/age'] = data['leisure_sum']/(data['age_leisure_sum_mean'])\n",
        "data['public_service_sum/age'] = data['public_service_sum']/(data['age_public_service_sum_mean'])\n",
        "data['trust_sum/age'] = data['trust_sum']/(data['age_trust_sum_mean'])"
      ],
      "execution_count": 17,
      "outputs": []
    },
    {
      "cell_type": "code",
      "metadata": {
        "colab": {
          "base_uri": "https://localhost:8080/",
          "height": 262
        },
        "id": "ikURyX-Ubb6g",
        "outputId": "4b29f812-51c7-4c25-80c3-02d0ded47112"
      },
      "source": [
        "print('shape',data.shape)\n",
        "data.head()"
      ],
      "execution_count": 18,
      "outputs": [
        {
          "output_type": "stream",
          "text": [
            "shape (10956, 272)\n"
          ],
          "name": "stdout"
        },
        {
          "output_type": "execute_result",
          "data": {
            "text/html": [
              "<div>\n",
              "<style scoped>\n",
              "    .dataframe tbody tr th:only-of-type {\n",
              "        vertical-align: middle;\n",
              "    }\n",
              "\n",
              "    .dataframe tbody tr th {\n",
              "        vertical-align: top;\n",
              "    }\n",
              "\n",
              "    .dataframe thead th {\n",
              "        text-align: right;\n",
              "    }\n",
              "</style>\n",
              "<table border=\"1\" class=\"dataframe\">\n",
              "  <thead>\n",
              "    <tr style=\"text-align: right;\">\n",
              "      <th></th>\n",
              "      <th>id</th>\n",
              "      <th>survey_type</th>\n",
              "      <th>province</th>\n",
              "      <th>city</th>\n",
              "      <th>county</th>\n",
              "      <th>survey_time</th>\n",
              "      <th>gender</th>\n",
              "      <th>birth</th>\n",
              "      <th>nationality</th>\n",
              "      <th>religion</th>\n",
              "      <th>religion_freq</th>\n",
              "      <th>edu</th>\n",
              "      <th>edu_other</th>\n",
              "      <th>edu_status</th>\n",
              "      <th>edu_yr</th>\n",
              "      <th>income</th>\n",
              "      <th>political</th>\n",
              "      <th>join_party</th>\n",
              "      <th>floor_area</th>\n",
              "      <th>property_0</th>\n",
              "      <th>property_1</th>\n",
              "      <th>property_2</th>\n",
              "      <th>property_3</th>\n",
              "      <th>property_4</th>\n",
              "      <th>property_5</th>\n",
              "      <th>property_6</th>\n",
              "      <th>property_7</th>\n",
              "      <th>property_8</th>\n",
              "      <th>property_other</th>\n",
              "      <th>height_cm</th>\n",
              "      <th>weight_jin</th>\n",
              "      <th>health</th>\n",
              "      <th>health_problem</th>\n",
              "      <th>depression</th>\n",
              "      <th>hukou</th>\n",
              "      <th>hukou_loc</th>\n",
              "      <th>media_1</th>\n",
              "      <th>media_2</th>\n",
              "      <th>media_3</th>\n",
              "      <th>media_4</th>\n",
              "      <th>...</th>\n",
              "      <th>trust_sum/city</th>\n",
              "      <th>income/county</th>\n",
              "      <th>family_income/county</th>\n",
              "      <th>equity/county</th>\n",
              "      <th>depression/county</th>\n",
              "      <th>floor_area/county</th>\n",
              "      <th>health/county</th>\n",
              "      <th>class_10_diff/county</th>\n",
              "      <th>class/county</th>\n",
              "      <th>health_problem/county</th>\n",
              "      <th>family_status/county</th>\n",
              "      <th>leisure_sum/county</th>\n",
              "      <th>public_service_sum/county</th>\n",
              "      <th>trust_sum/county</th>\n",
              "      <th>age_income_mean</th>\n",
              "      <th>age_family_income_mean</th>\n",
              "      <th>age_equity_mean</th>\n",
              "      <th>age_depression_mean</th>\n",
              "      <th>age_floor_area_mean</th>\n",
              "      <th>age_health_mean</th>\n",
              "      <th>age_class_10_diff_mean</th>\n",
              "      <th>age_class_mean</th>\n",
              "      <th>age_health_problem_mean</th>\n",
              "      <th>age_family_status_mean</th>\n",
              "      <th>age_leisure_sum_mean</th>\n",
              "      <th>age_public_service_sum_mean</th>\n",
              "      <th>age_trust_sum_mean</th>\n",
              "      <th>income/age</th>\n",
              "      <th>family_income/age</th>\n",
              "      <th>equity/age</th>\n",
              "      <th>depression/age</th>\n",
              "      <th>floor_area/age</th>\n",
              "      <th>health/age</th>\n",
              "      <th>class_10_diff/age</th>\n",
              "      <th>class/age</th>\n",
              "      <th>health_problem/age</th>\n",
              "      <th>family_status/age</th>\n",
              "      <th>leisure_sum/age</th>\n",
              "      <th>public_service_sum/age</th>\n",
              "      <th>trust_sum/age</th>\n",
              "    </tr>\n",
              "  </thead>\n",
              "  <tbody>\n",
              "    <tr>\n",
              "      <th>0</th>\n",
              "      <td>1</td>\n",
              "      <td>1</td>\n",
              "      <td>12</td>\n",
              "      <td>32</td>\n",
              "      <td>59</td>\n",
              "      <td>2015</td>\n",
              "      <td>1</td>\n",
              "      <td>1959</td>\n",
              "      <td>1</td>\n",
              "      <td>1</td>\n",
              "      <td>1</td>\n",
              "      <td>11</td>\n",
              "      <td>NaN</td>\n",
              "      <td>4.0</td>\n",
              "      <td>0.0</td>\n",
              "      <td>20000</td>\n",
              "      <td>1</td>\n",
              "      <td>NaN</td>\n",
              "      <td>45.0</td>\n",
              "      <td>0</td>\n",
              "      <td>1</td>\n",
              "      <td>0</td>\n",
              "      <td>0</td>\n",
              "      <td>0</td>\n",
              "      <td>0</td>\n",
              "      <td>0</td>\n",
              "      <td>0</td>\n",
              "      <td>0</td>\n",
              "      <td>NaN</td>\n",
              "      <td>176</td>\n",
              "      <td>155</td>\n",
              "      <td>3</td>\n",
              "      <td>2</td>\n",
              "      <td>5</td>\n",
              "      <td>5</td>\n",
              "      <td>2.0</td>\n",
              "      <td>4</td>\n",
              "      <td>2</td>\n",
              "      <td>5</td>\n",
              "      <td>5</td>\n",
              "      <td>...</td>\n",
              "      <td>0.886849</td>\n",
              "      <td>0.690141</td>\n",
              "      <td>0.989600</td>\n",
              "      <td>1.166667</td>\n",
              "      <td>1.225000</td>\n",
              "      <td>1.167903</td>\n",
              "      <td>0.859649</td>\n",
              "      <td>0.000000</td>\n",
              "      <td>0.607438</td>\n",
              "      <td>0.515789</td>\n",
              "      <td>0.803279</td>\n",
              "      <td>0.899333</td>\n",
              "      <td>0.751122</td>\n",
              "      <td>0.988932</td>\n",
              "      <td>24371.808219</td>\n",
              "      <td>68176.863103</td>\n",
              "      <td>3.061644</td>\n",
              "      <td>3.890411</td>\n",
              "      <td>109.662329</td>\n",
              "      <td>3.534247</td>\n",
              "      <td>0.479452</td>\n",
              "      <td>4.390411</td>\n",
              "      <td>3.835616</td>\n",
              "      <td>2.726027</td>\n",
              "      <td>45.541096</td>\n",
              "      <td>608.657534</td>\n",
              "      <td>36.054795</td>\n",
              "      <td>0.820620</td>\n",
              "      <td>0.880064</td>\n",
              "      <td>0.979866</td>\n",
              "      <td>1.285211</td>\n",
              "      <td>0.410351</td>\n",
              "      <td>0.848837</td>\n",
              "      <td>0.000000</td>\n",
              "      <td>0.683307</td>\n",
              "      <td>0.521429</td>\n",
              "      <td>0.733668</td>\n",
              "      <td>0.724620</td>\n",
              "      <td>0.690043</td>\n",
              "      <td>0.859802</td>\n",
              "    </tr>\n",
              "    <tr>\n",
              "      <th>1</th>\n",
              "      <td>2</td>\n",
              "      <td>2</td>\n",
              "      <td>18</td>\n",
              "      <td>52</td>\n",
              "      <td>85</td>\n",
              "      <td>2015</td>\n",
              "      <td>1</td>\n",
              "      <td>1992</td>\n",
              "      <td>1</td>\n",
              "      <td>1</td>\n",
              "      <td>1</td>\n",
              "      <td>12</td>\n",
              "      <td>NaN</td>\n",
              "      <td>4.0</td>\n",
              "      <td>2013.0</td>\n",
              "      <td>20000</td>\n",
              "      <td>1</td>\n",
              "      <td>NaN</td>\n",
              "      <td>110.0</td>\n",
              "      <td>0</td>\n",
              "      <td>0</td>\n",
              "      <td>0</td>\n",
              "      <td>0</td>\n",
              "      <td>1</td>\n",
              "      <td>0</td>\n",
              "      <td>0</td>\n",
              "      <td>0</td>\n",
              "      <td>0</td>\n",
              "      <td>NaN</td>\n",
              "      <td>170</td>\n",
              "      <td>110</td>\n",
              "      <td>5</td>\n",
              "      <td>4</td>\n",
              "      <td>3</td>\n",
              "      <td>1</td>\n",
              "      <td>1.0</td>\n",
              "      <td>2</td>\n",
              "      <td>2</td>\n",
              "      <td>1</td>\n",
              "      <td>3</td>\n",
              "      <td>...</td>\n",
              "      <td>1.030360</td>\n",
              "      <td>1.719889</td>\n",
              "      <td>1.150775</td>\n",
              "      <td>0.895385</td>\n",
              "      <td>0.757812</td>\n",
              "      <td>0.711476</td>\n",
              "      <td>1.272966</td>\n",
              "      <td>2.179775</td>\n",
              "      <td>1.455000</td>\n",
              "      <td>1.013055</td>\n",
              "      <td>1.453184</td>\n",
              "      <td>0.801993</td>\n",
              "      <td>1.072921</td>\n",
              "      <td>1.006273</td>\n",
              "      <td>20771.900826</td>\n",
              "      <td>71278.333790</td>\n",
              "      <td>3.157025</td>\n",
              "      <td>4.090909</td>\n",
              "      <td>115.446281</td>\n",
              "      <td>4.239669</td>\n",
              "      <td>1.975207</td>\n",
              "      <td>4.462810</td>\n",
              "      <td>4.487603</td>\n",
              "      <td>2.942149</td>\n",
              "      <td>38.545455</td>\n",
              "      <td>579.082645</td>\n",
              "      <td>39.107438</td>\n",
              "      <td>0.962839</td>\n",
              "      <td>0.561180</td>\n",
              "      <td>0.950262</td>\n",
              "      <td>0.733333</td>\n",
              "      <td>0.952824</td>\n",
              "      <td>1.179337</td>\n",
              "      <td>1.012552</td>\n",
              "      <td>1.344444</td>\n",
              "      <td>0.891344</td>\n",
              "      <td>1.359551</td>\n",
              "      <td>1.011792</td>\n",
              "      <td>1.165637</td>\n",
              "      <td>1.099535</td>\n",
              "    </tr>\n",
              "    <tr>\n",
              "      <th>2</th>\n",
              "      <td>3</td>\n",
              "      <td>2</td>\n",
              "      <td>29</td>\n",
              "      <td>83</td>\n",
              "      <td>126</td>\n",
              "      <td>2015</td>\n",
              "      <td>2</td>\n",
              "      <td>1967</td>\n",
              "      <td>1</td>\n",
              "      <td>0</td>\n",
              "      <td>3</td>\n",
              "      <td>4</td>\n",
              "      <td>NaN</td>\n",
              "      <td>4.0</td>\n",
              "      <td>0.0</td>\n",
              "      <td>2000</td>\n",
              "      <td>1</td>\n",
              "      <td>NaN</td>\n",
              "      <td>120.0</td>\n",
              "      <td>0</td>\n",
              "      <td>1</td>\n",
              "      <td>1</td>\n",
              "      <td>0</td>\n",
              "      <td>0</td>\n",
              "      <td>0</td>\n",
              "      <td>0</td>\n",
              "      <td>0</td>\n",
              "      <td>0</td>\n",
              "      <td>NaN</td>\n",
              "      <td>160</td>\n",
              "      <td>122</td>\n",
              "      <td>4</td>\n",
              "      <td>4</td>\n",
              "      <td>5</td>\n",
              "      <td>1</td>\n",
              "      <td>1.0</td>\n",
              "      <td>2</td>\n",
              "      <td>2</td>\n",
              "      <td>2</td>\n",
              "      <td>5</td>\n",
              "      <td>...</td>\n",
              "      <td>0.902552</td>\n",
              "      <td>0.306649</td>\n",
              "      <td>0.246326</td>\n",
              "      <td>1.214058</td>\n",
              "      <td>1.263298</td>\n",
              "      <td>0.994331</td>\n",
              "      <td>1.085714</td>\n",
              "      <td>1.266667</td>\n",
              "      <td>1.109813</td>\n",
              "      <td>1.041096</td>\n",
              "      <td>1.083650</td>\n",
              "      <td>0.932388</td>\n",
              "      <td>1.144302</td>\n",
              "      <td>0.902552</td>\n",
              "      <td>23468.987342</td>\n",
              "      <td>51169.410130</td>\n",
              "      <td>3.025316</td>\n",
              "      <td>3.721519</td>\n",
              "      <td>123.415190</td>\n",
              "      <td>3.476793</td>\n",
              "      <td>0.839662</td>\n",
              "      <td>4.181435</td>\n",
              "      <td>3.789030</td>\n",
              "      <td>2.518987</td>\n",
              "      <td>46.561181</td>\n",
              "      <td>607.130802</td>\n",
              "      <td>37.772152</td>\n",
              "      <td>0.085219</td>\n",
              "      <td>0.156343</td>\n",
              "      <td>1.322176</td>\n",
              "      <td>1.343537</td>\n",
              "      <td>0.972328</td>\n",
              "      <td>1.150485</td>\n",
              "      <td>1.190955</td>\n",
              "      <td>1.195762</td>\n",
              "      <td>1.055679</td>\n",
              "      <td>1.190955</td>\n",
              "      <td>0.966470</td>\n",
              "      <td>1.233672</td>\n",
              "      <td>0.926609</td>\n",
              "    </tr>\n",
              "    <tr>\n",
              "      <th>3</th>\n",
              "      <td>4</td>\n",
              "      <td>2</td>\n",
              "      <td>10</td>\n",
              "      <td>28</td>\n",
              "      <td>51</td>\n",
              "      <td>2015</td>\n",
              "      <td>2</td>\n",
              "      <td>1943</td>\n",
              "      <td>1</td>\n",
              "      <td>1</td>\n",
              "      <td>1</td>\n",
              "      <td>3</td>\n",
              "      <td>NaN</td>\n",
              "      <td>4.0</td>\n",
              "      <td>1959.0</td>\n",
              "      <td>6420</td>\n",
              "      <td>1</td>\n",
              "      <td>NaN</td>\n",
              "      <td>78.0</td>\n",
              "      <td>0</td>\n",
              "      <td>0</td>\n",
              "      <td>0</td>\n",
              "      <td>1</td>\n",
              "      <td>0</td>\n",
              "      <td>0</td>\n",
              "      <td>0</td>\n",
              "      <td>0</td>\n",
              "      <td>0</td>\n",
              "      <td>NaN</td>\n",
              "      <td>163</td>\n",
              "      <td>170</td>\n",
              "      <td>4</td>\n",
              "      <td>4</td>\n",
              "      <td>4</td>\n",
              "      <td>1</td>\n",
              "      <td>2.0</td>\n",
              "      <td>2</td>\n",
              "      <td>1</td>\n",
              "      <td>1</td>\n",
              "      <td>5</td>\n",
              "      <td>...</td>\n",
              "      <td>1.147826</td>\n",
              "      <td>0.142423</td>\n",
              "      <td>0.117516</td>\n",
              "      <td>1.229814</td>\n",
              "      <td>0.992481</td>\n",
              "      <td>0.789006</td>\n",
              "      <td>0.982630</td>\n",
              "      <td>2.869565</td>\n",
              "      <td>1.119910</td>\n",
              "      <td>0.977778</td>\n",
              "      <td>1.112360</td>\n",
              "      <td>1.006383</td>\n",
              "      <td>1.203224</td>\n",
              "      <td>1.147826</td>\n",
              "      <td>15072.375000</td>\n",
              "      <td>123040.453017</td>\n",
              "      <td>3.348214</td>\n",
              "      <td>3.598214</td>\n",
              "      <td>121.433036</td>\n",
              "      <td>3.133929</td>\n",
              "      <td>0.401786</td>\n",
              "      <td>4.169643</td>\n",
              "      <td>3.366071</td>\n",
              "      <td>2.580357</td>\n",
              "      <td>47.812500</td>\n",
              "      <td>607.258929</td>\n",
              "      <td>36.857143</td>\n",
              "      <td>0.425945</td>\n",
              "      <td>0.097529</td>\n",
              "      <td>1.194667</td>\n",
              "      <td>1.111663</td>\n",
              "      <td>0.642329</td>\n",
              "      <td>1.276353</td>\n",
              "      <td>4.977778</td>\n",
              "      <td>1.199143</td>\n",
              "      <td>1.188329</td>\n",
              "      <td>1.162630</td>\n",
              "      <td>0.899346</td>\n",
              "      <td>1.251525</td>\n",
              "      <td>1.193798</td>\n",
              "    </tr>\n",
              "    <tr>\n",
              "      <th>4</th>\n",
              "      <td>5</td>\n",
              "      <td>1</td>\n",
              "      <td>7</td>\n",
              "      <td>18</td>\n",
              "      <td>36</td>\n",
              "      <td>2015</td>\n",
              "      <td>2</td>\n",
              "      <td>1994</td>\n",
              "      <td>1</td>\n",
              "      <td>1</td>\n",
              "      <td>1</td>\n",
              "      <td>12</td>\n",
              "      <td>NaN</td>\n",
              "      <td>1.0</td>\n",
              "      <td>2014.0</td>\n",
              "      <td>0</td>\n",
              "      <td>2</td>\n",
              "      <td>NaN</td>\n",
              "      <td>70.0</td>\n",
              "      <td>0</td>\n",
              "      <td>0</td>\n",
              "      <td>0</td>\n",
              "      <td>0</td>\n",
              "      <td>1</td>\n",
              "      <td>0</td>\n",
              "      <td>0</td>\n",
              "      <td>0</td>\n",
              "      <td>0</td>\n",
              "      <td>NaN</td>\n",
              "      <td>165</td>\n",
              "      <td>110</td>\n",
              "      <td>5</td>\n",
              "      <td>5</td>\n",
              "      <td>3</td>\n",
              "      <td>2</td>\n",
              "      <td>3.0</td>\n",
              "      <td>1</td>\n",
              "      <td>3</td>\n",
              "      <td>4</td>\n",
              "      <td>2</td>\n",
              "      <td>...</td>\n",
              "      <td>1.348372</td>\n",
              "      <td>0.000000</td>\n",
              "      <td>0.777762</td>\n",
              "      <td>0.557143</td>\n",
              "      <td>0.754839</td>\n",
              "      <td>1.216252</td>\n",
              "      <td>1.250000</td>\n",
              "      <td>0.000000</td>\n",
              "      <td>0.274648</td>\n",
              "      <td>1.196319</td>\n",
              "      <td>0.991525</td>\n",
              "      <td>0.891938</td>\n",
              "      <td>0.877061</td>\n",
              "      <td>1.120836</td>\n",
              "      <td>14158.165138</td>\n",
              "      <td>69150.138536</td>\n",
              "      <td>3.082569</td>\n",
              "      <td>4.000000</td>\n",
              "      <td>119.192661</td>\n",
              "      <td>4.247706</td>\n",
              "      <td>1.779817</td>\n",
              "      <td>4.220183</td>\n",
              "      <td>4.477064</td>\n",
              "      <td>2.743119</td>\n",
              "      <td>38.266055</td>\n",
              "      <td>595.243119</td>\n",
              "      <td>41.743119</td>\n",
              "      <td>0.000000</td>\n",
              "      <td>0.959733</td>\n",
              "      <td>0.648810</td>\n",
              "      <td>0.750000</td>\n",
              "      <td>0.587284</td>\n",
              "      <td>1.177106</td>\n",
              "      <td>0.000000</td>\n",
              "      <td>0.236957</td>\n",
              "      <td>1.116803</td>\n",
              "      <td>1.093645</td>\n",
              "      <td>1.045313</td>\n",
              "      <td>0.755994</td>\n",
              "      <td>1.054066</td>\n",
              "    </tr>\n",
              "  </tbody>\n",
              "</table>\n",
              "<p>5 rows × 272 columns</p>\n",
              "</div>"
            ],
            "text/plain": [
              "   id  survey_type  ...  public_service_sum/age  trust_sum/age\n",
              "0   1            1  ...                0.690043       0.859802\n",
              "1   2            2  ...                1.165637       1.099535\n",
              "2   3            2  ...                1.233672       0.926609\n",
              "3   4            2  ...                1.251525       1.193798\n",
              "4   5            1  ...                0.755994       1.054066\n",
              "\n",
              "[5 rows x 272 columns]"
            ]
          },
          "metadata": {
            "tags": []
          },
          "execution_count": 18
        }
      ]
    },
    {
      "cell_type": "markdown",
      "metadata": {
        "id": "lz8GtaWrhHIW"
      },
      "source": [
        "删除缺失值太多的columns以及之前用过的columns(避免特征线性相关)"
      ]
    },
    {
      "cell_type": "code",
      "metadata": {
        "colab": {
          "base_uri": "https://localhost:8080/"
        },
        "id": "WvPqAisigz06",
        "outputId": "2a306e9b-92fc-4390-bf76-b09e30363b2d"
      },
      "source": [
        "#272-9=263\n",
        "#删除数值特别少的和之前用过的特征\n",
        "del_list=['id','survey_time','edu_other','invest_other','property_other','join_party','province','city','county']\n",
        "use_feature = [clo for clo in data.columns if clo not in del_list]\n",
        "data.fillna(0,inplace=True) #还是补0\n",
        "train_shape = train.shape[0] #一共的数据量，训练集\n",
        "features = data[use_feature].columns #删除后所有的特征\n",
        "X_train_263 = data[:train_shape][use_feature].values\n",
        "y_train = target\n",
        "X_test_263 = data[train_shape:][use_feature].values\n",
        "X_train_263.shape #最终一种263个特征"
      ],
      "execution_count": 19,
      "outputs": [
        {
          "output_type": "execute_result",
          "data": {
            "text/plain": [
              "(7988, 263)"
            ]
          },
          "metadata": {
            "tags": []
          },
          "execution_count": 19
        }
      ]
    },
    {
      "cell_type": "markdown",
      "metadata": {
        "id": "unQGH1vthgHN"
      },
      "source": [
        "选取272个特征中最重要的49个特征进行分析"
      ]
    },
    {
      "cell_type": "code",
      "metadata": {
        "colab": {
          "base_uri": "https://localhost:8080/"
        },
        "id": "i5teRzCpg8k_",
        "outputId": "71a285c9-c495-436b-f281-375c9fe2814c"
      },
      "source": [
        "imp_fea_49 = ['equity','depression','health','class','family_status','health_problem','class_10_after',\n",
        "'equity/province','equity/city','equity/county',\n",
        "'depression/province','depression/city','depression/county',\n",
        "'health/province','health/city','health/county',\n",
        "'class/province','class/city','class/county',\n",
        "'family_status/province','family_status/city','family_status/county',\n",
        "'family_income/province','family_income/city','family_income/county',\n",
        "'floor_area/province','floor_area/city','floor_area/county',\n",
        "'leisure_sum/province','leisure_sum/city','leisure_sum/county',\n",
        "'public_service_sum/province','public_service_sum/city','public_service_sum/county',\n",
        "'trust_sum/province','trust_sum/city','trust_sum/county',\n",
        "'income/m','public_service_sum','class_diff','status_3_before','age_income_mean','age_floor_area_mean',\n",
        "'weight_jin','height_cm',\n",
        "'health/age','depression/age','equity/age','leisure_sum/age'\n",
        "]\n",
        "train_shape = train.shape[0]\n",
        "# convert pandas dataframe to numpy array\n",
        "X_train_49 = data[:train_shape][imp_fea_49].values\n",
        "X_test_49 = data[train_shape:][imp_fea_49].values\n",
        "X_train_49.shape #最重要的49个特征"
      ],
      "execution_count": 20,
      "outputs": [
        {
          "output_type": "execute_result",
          "data": {
            "text/plain": [
              "(7988, 49)"
            ]
          },
          "metadata": {
            "tags": []
          },
          "execution_count": 20
        }
      ]
    },
    {
      "cell_type": "code",
      "metadata": {
        "colab": {
          "base_uri": "https://localhost:8080/"
        },
        "id": "gtgSwut9hosS",
        "outputId": "51217f94-9e56-48bf-8679-d79159c54d38"
      },
      "source": [
        "data.shape"
      ],
      "execution_count": 21,
      "outputs": [
        {
          "output_type": "execute_result",
          "data": {
            "text/plain": [
              "(10956, 272)"
            ]
          },
          "metadata": {
            "tags": []
          },
          "execution_count": 21
        }
      ]
    },
    {
      "cell_type": "markdown",
      "metadata": {
        "id": "1Jnygoroh88k"
      },
      "source": [
        "OneHot-Encoding 转化原来的272个特征里面的categorical features"
      ]
    },
    {
      "cell_type": "code",
      "metadata": {
        "colab": {
          "base_uri": "https://localhost:8080/"
        },
        "id": "NPSvbldZhq2G",
        "outputId": "3fc4940a-ce83-4202-af81-1a49d05fb340"
      },
      "source": [
        "cat_fea = ['survey_type','gender','nationality','edu_status','political','hukou','hukou_loc','work_exper','work_status','work_type',\n",
        "'work_manage','marital','s_political','s_hukou','s_work_exper','s_work_status','s_work_type','f_political','f_work_14',\n",
        "'m_political','m_work_14']\n",
        "noc_fea = [clo for clo in use_feature if clo not in cat_fea]\n",
        "onehot_data = data[cat_fea].values\n",
        "enc = preprocessing.OneHotEncoder(categories = 'auto')\n",
        "oh_data=enc.fit_transform(onehot_data).toarray()\n",
        "oh_data.shape #变为onehot编码格式\n",
        "X_train_oh = oh_data[:train_shape,:]\n",
        "X_test_oh = oh_data[train_shape:,:]\n",
        "X_train_oh.shape #其中的训练集\n",
        "X_train_383 = np.column_stack([data[:train_shape][noc_fea].values,X_train_oh])#先是noc，再是cat_fea\n",
        "X_test_383 = np.column_stack([data[train_shape:][noc_fea].values,X_test_oh])\n",
        "X_train_383.shape"
      ],
      "execution_count": 22,
      "outputs": [
        {
          "output_type": "execute_result",
          "data": {
            "text/plain": [
              "(7988, 383)"
            ]
          },
          "metadata": {
            "tags": []
          },
          "execution_count": 22
        }
      ]
    },
    {
      "cell_type": "markdown",
      "metadata": {
        "id": "IosnA8Vlt5Wt"
      },
      "source": [
        "# 2. Modeling\n",
        "这里选用以下的模型\n",
        "- LGBM\n",
        "- XGBoost\n",
        "- Random Forest\n",
        "- Stacking with stage 2 model of ElasticNet"
      ]
    },
    {
      "cell_type": "code",
      "metadata": {
        "colab": {
          "base_uri": "https://localhost:8080/"
        },
        "id": "xy2oPM2diJiK",
        "outputId": "931a1be5-d1c9-4c27-dd45-52be703409a0"
      },
      "source": [
        "#lightGBM决策树\n",
        "lgb_263_param = {\n",
        "'num_leaves': 7,\n",
        "'min_data_in_leaf': 20, #叶子可能具有的最小记录数\n",
        "'objective':'regression',\n",
        "'max_depth': -1,\n",
        "'learning_rate': 0.003,\n",
        "\"boosting\": \"gbdt\", #用gbdt算法\n",
        "\"feature_fraction\": 0.18, #例如 0.18时，意味着在每次迭代中随机选择18％的参数来建树\n",
        "\"bagging_freq\": 1,\n",
        "\"bagging_fraction\": 0.55, #每次迭代时用的数据比例\n",
        "\"bagging_seed\": 14,\n",
        "\"metric\": 'mse',\n",
        "\"lambda_l1\": 0.1005,\n",
        "\"lambda_l2\": 0.1996,\n",
        "\"verbosity\": -1}\n",
        "RANDOM_STATE = 4\n",
        "folds = StratifiedKFold(n_splits=5, shuffle=True, random_state=RANDOM_STATE)\n",
        "oof_lgb_263 = np.zeros(len(X_train_263)) # 储存 LGBM的CV预测输出\n",
        "predictions_lgb_263 = np.zeros(len(X_test_263)) # 储存LGB的test set的输出用于后面的 Ensemble learning Stacking 的环节\n",
        "\n",
        "for i, (trn_idx, val_idx) in enumerate(folds.split(X_train_263,y_train)):\n",
        "  trn_data = lgb.Dataset(X_train_263[trn_idx],y_train[trn_idx])\n",
        "  val_data = lgb.Dataset(X_train_263[val_idx], y_train[val_idx])#train:val=4:1\n",
        "  num_round = 10000\n",
        "  lgb_263 = lgb.train(lgb_263_param, trn_data, num_round, valid_sets = [trn_data, val_data], verbose_eval=500, early_stopping_rounds =\n",
        "  800)\n",
        "  oof_lgb_263[val_idx] = lgb_263.predict(X_train_263[val_idx], num_iteration=lgb_263.best_iteration)\n",
        "  \n",
        "  # make prediction on test set with mean values\n",
        "  predictions_lgb_263 += lgb_263.predict(X_test_263, num_iteration=lgb_263.best_iteration) / folds.n_splits\n",
        "\n",
        "print(\"CV score: {:<8.8f}\".format(mean_squared_error(oof_lgb_263, target)))"
      ],
      "execution_count": 23,
      "outputs": [
        {
          "output_type": "stream",
          "text": [
            "Training until validation scores don't improve for 800 rounds.\n",
            "[500]\ttraining's l2: 0.499982\tvalid_1's l2: 0.532811\n",
            "[1000]\ttraining's l2: 0.451888\tvalid_1's l2: 0.500866\n",
            "[1500]\ttraining's l2: 0.42607\tvalid_1's l2: 0.488106\n",
            "[2000]\ttraining's l2: 0.408148\tvalid_1's l2: 0.482351\n",
            "[2500]\ttraining's l2: 0.393936\tvalid_1's l2: 0.479115\n",
            "[3000]\ttraining's l2: 0.381742\tvalid_1's l2: 0.477309\n",
            "[3500]\ttraining's l2: 0.370984\tvalid_1's l2: 0.475868\n",
            "[4000]\ttraining's l2: 0.361257\tvalid_1's l2: 0.474433\n",
            "[4500]\ttraining's l2: 0.352307\tvalid_1's l2: 0.473648\n",
            "[5000]\ttraining's l2: 0.343973\tvalid_1's l2: 0.473344\n",
            "[5500]\ttraining's l2: 0.335941\tvalid_1's l2: 0.472972\n",
            "[6000]\ttraining's l2: 0.328318\tvalid_1's l2: 0.472581\n",
            "[6500]\ttraining's l2: 0.321006\tvalid_1's l2: 0.472468\n",
            "[7000]\ttraining's l2: 0.313976\tvalid_1's l2: 0.472438\n",
            "[7500]\ttraining's l2: 0.307314\tvalid_1's l2: 0.472313\n",
            "[8000]\ttraining's l2: 0.300795\tvalid_1's l2: 0.472056\n",
            "[8500]\ttraining's l2: 0.294524\tvalid_1's l2: 0.472057\n",
            "[9000]\ttraining's l2: 0.288522\tvalid_1's l2: 0.472044\n",
            "[9500]\ttraining's l2: 0.282829\tvalid_1's l2: 0.472198\n",
            "Early stopping, best iteration is:\n",
            "[8772]\ttraining's l2: 0.291282\tvalid_1's l2: 0.471889\n",
            "Training until validation scores don't improve for 800 rounds.\n",
            "[500]\ttraining's l2: 0.504704\tvalid_1's l2: 0.513224\n",
            "[1000]\ttraining's l2: 0.455644\tvalid_1's l2: 0.479505\n",
            "[1500]\ttraining's l2: 0.429649\tvalid_1's l2: 0.466128\n",
            "[2000]\ttraining's l2: 0.411703\tvalid_1's l2: 0.458996\n",
            "[2500]\ttraining's l2: 0.397514\tvalid_1's l2: 0.455246\n",
            "[3000]\ttraining's l2: 0.385608\tvalid_1's l2: 0.452895\n",
            "[3500]\ttraining's l2: 0.374867\tvalid_1's l2: 0.450852\n",
            "[4000]\ttraining's l2: 0.365136\tvalid_1's l2: 0.449887\n",
            "[4500]\ttraining's l2: 0.356009\tvalid_1's l2: 0.448972\n",
            "[5000]\ttraining's l2: 0.34761\tvalid_1's l2: 0.4481\n",
            "[5500]\ttraining's l2: 0.339639\tvalid_1's l2: 0.44764\n",
            "[6000]\ttraining's l2: 0.332091\tvalid_1's l2: 0.447321\n",
            "[6500]\ttraining's l2: 0.32478\tvalid_1's l2: 0.447137\n",
            "[7000]\ttraining's l2: 0.317908\tvalid_1's l2: 0.446749\n",
            "[7500]\ttraining's l2: 0.311229\tvalid_1's l2: 0.446696\n",
            "[8000]\ttraining's l2: 0.304789\tvalid_1's l2: 0.446414\n",
            "[8500]\ttraining's l2: 0.298514\tvalid_1's l2: 0.446486\n",
            "Early stopping, best iteration is:\n",
            "[8047]\ttraining's l2: 0.304181\tvalid_1's l2: 0.446358\n",
            "Training until validation scores don't improve for 800 rounds.\n",
            "[500]\ttraining's l2: 0.504008\tvalid_1's l2: 0.518123\n",
            "[1000]\ttraining's l2: 0.456405\tvalid_1's l2: 0.480821\n",
            "[1500]\ttraining's l2: 0.430797\tvalid_1's l2: 0.464711\n",
            "[2000]\ttraining's l2: 0.413196\tvalid_1's l2: 0.456003\n",
            "[2500]\ttraining's l2: 0.399242\tvalid_1's l2: 0.450847\n",
            "[3000]\ttraining's l2: 0.387368\tvalid_1's l2: 0.447425\n",
            "[3500]\ttraining's l2: 0.376454\tvalid_1's l2: 0.445275\n",
            "[4000]\ttraining's l2: 0.366627\tvalid_1's l2: 0.443866\n",
            "[4500]\ttraining's l2: 0.35738\tvalid_1's l2: 0.442639\n",
            "[5000]\ttraining's l2: 0.348915\tvalid_1's l2: 0.442125\n",
            "[5500]\ttraining's l2: 0.340744\tvalid_1's l2: 0.441642\n",
            "[6000]\ttraining's l2: 0.333136\tvalid_1's l2: 0.441221\n",
            "[6500]\ttraining's l2: 0.325836\tvalid_1's l2: 0.440884\n",
            "[7000]\ttraining's l2: 0.318818\tvalid_1's l2: 0.440842\n",
            "[7500]\ttraining's l2: 0.312061\tvalid_1's l2: 0.440773\n",
            "[8000]\ttraining's l2: 0.305585\tvalid_1's l2: 0.440955\n",
            "Early stopping, best iteration is:\n",
            "[7520]\ttraining's l2: 0.311789\tvalid_1's l2: 0.440694\n",
            "Training until validation scores don't improve for 800 rounds.\n",
            "[500]\ttraining's l2: 0.505185\tvalid_1's l2: 0.51351\n",
            "[1000]\ttraining's l2: 0.456329\tvalid_1's l2: 0.478763\n",
            "[1500]\ttraining's l2: 0.429767\tvalid_1's l2: 0.46569\n",
            "[2000]\ttraining's l2: 0.411551\tvalid_1's l2: 0.459378\n",
            "[2500]\ttraining's l2: 0.397372\tvalid_1's l2: 0.455853\n",
            "[3000]\ttraining's l2: 0.385493\tvalid_1's l2: 0.453623\n",
            "[3500]\ttraining's l2: 0.374658\tvalid_1's l2: 0.452343\n",
            "[4000]\ttraining's l2: 0.364871\tvalid_1's l2: 0.45107\n",
            "[4500]\ttraining's l2: 0.3558\tvalid_1's l2: 0.450298\n",
            "[5000]\ttraining's l2: 0.347424\tvalid_1's l2: 0.449849\n",
            "[5500]\ttraining's l2: 0.339436\tvalid_1's l2: 0.449309\n",
            "[6000]\ttraining's l2: 0.331782\tvalid_1's l2: 0.449063\n",
            "[6500]\ttraining's l2: 0.324483\tvalid_1's l2: 0.448998\n",
            "Early stopping, best iteration is:\n",
            "[6190]\ttraining's l2: 0.329005\tvalid_1's l2: 0.44886\n",
            "Training until validation scores don't improve for 800 rounds.\n",
            "[500]\ttraining's l2: 0.50332\tvalid_1's l2: 0.520359\n",
            "[1000]\ttraining's l2: 0.455395\tvalid_1's l2: 0.484988\n",
            "[1500]\ttraining's l2: 0.42964\tvalid_1's l2: 0.471221\n",
            "[2000]\ttraining's l2: 0.411631\tvalid_1's l2: 0.463725\n",
            "[2500]\ttraining's l2: 0.397309\tvalid_1's l2: 0.459892\n",
            "[3000]\ttraining's l2: 0.385072\tvalid_1's l2: 0.458241\n",
            "[3500]\ttraining's l2: 0.374147\tvalid_1's l2: 0.456694\n",
            "[4000]\ttraining's l2: 0.364076\tvalid_1's l2: 0.456199\n",
            "[4500]\ttraining's l2: 0.35491\tvalid_1's l2: 0.456075\n",
            "[5000]\ttraining's l2: 0.346303\tvalid_1's l2: 0.456059\n",
            "Early stopping, best iteration is:\n",
            "[4335]\ttraining's l2: 0.357879\tvalid_1's l2: 0.455919\n",
            "CV score: 0.45274410\n"
          ],
          "name": "stdout"
        }
      ]
    },
    {
      "cell_type": "code",
      "metadata": {
        "colab": {
          "base_uri": "https://localhost:8080/",
          "height": 1000
        },
        "id": "9gOefX1siK9D",
        "outputId": "30ef23fc-dc1d-4e77-9a84-c2102778ff5e"
      },
      "source": [
        "#---------------特征重要性\n",
        "pd.set_option('display.max_columns', None)\n",
        "#显示所有行\n",
        "pd.set_option('display.max_rows', None)\n",
        "#设置value的显示长度为100，默认为50\n",
        "pd.set_option('max_colwidth',100)\n",
        "df = pd.DataFrame(data[use_feature].columns.tolist(), columns=['feature'])\n",
        "\n",
        "# 利用LGBM的tree的feature importance 对特征进行分析\n",
        "df['importance']=list(lgb_263.feature_importance())\n",
        "df = df.sort_values(by='importance',ascending=False)\n",
        "plt.figure(figsize=(14,28))\n",
        "sns.barplot(x=\"importance\", y=\"feature\", data=df.head(50))\n",
        "plt.title('Features importance (averaged/folds)')\n",
        "plt.tight_layout()"
      ],
      "execution_count": 24,
      "outputs": [
        {
          "output_type": "display_data",
          "data": {
            "image/png": "[encoded data removed]",
            "text/plain": [
              "<Figure size 1008x2016 with 1 Axes>"
            ]
          },
          "metadata": {
            "tags": [],
            "needs_background": "light"
          }
        }
      ]
    },
    {
      "cell_type": "markdown",
      "metadata": {
        "id": "W9W0fv9ZmNsD"
      },
      "source": [
        "使用XGBoost 模型进行训练"
      ]
    },
    {
      "cell_type": "code",
      "metadata": {
        "colab": {
          "base_uri": "https://localhost:8080/"
        },
        "id": "et0ZY96njE5l",
        "outputId": "4b986838-1ee7-4fbc-bad0-e058f04e2685"
      },
      "source": [
        "##### xgb_263\n",
        "#xgboost\n",
        "xgb_263_params = {'eta': 0.02, #lr\n",
        "          'max_depth': 6,\n",
        "          'min_child_weight':3,#最小叶子节点样本权重和\n",
        "          'gamma':0, #指定节点分裂所需的最小损失函数下降值。\n",
        "          'subsample': 0.7, #控制对于每棵树，随机采样的比例\n",
        "          'colsample_bytree': 0.3, #用来控制每棵随机采样的列数的占比 (每一列是一个特征)。\n",
        "          'lambda':2,\n",
        "          'objective': 'reg:linear',\n",
        "          'eval_metric': 'rmse',\n",
        "          'silent': True,\n",
        "          'nthread': -1}\n",
        "\n",
        "folds = KFold(n_splits=5, shuffle=True, random_state=2019)\n",
        "\n",
        "# 存放 XGBoost 的预测输出结果\n",
        "oof_xgb_263 = np.zeros(len(X_train_263))\n",
        "predictions_xgb_263 = np.zeros(len(X_test_263))\n",
        "\n",
        "for fold_, (trn_idx, val_idx) in enumerate(folds.split(X_train_263, y_train)):\n",
        "  print(\"fold n°{}\".format(fold_+1))\n",
        "  \n",
        "  trn_data = xgb.DMatrix(X_train_263[trn_idx], y_train[trn_idx])\n",
        "  val_data = xgb.DMatrix(X_train_263[val_idx], y_train[val_idx])\n",
        "  watchlist = [(trn_data, 'train'), (val_data, 'valid_data')]\n",
        "\n",
        "  xgb_263 = xgb.train(dtrain=trn_data, num_boost_round=3000, evals=watchlist, early_stopping_rounds=600, verbose_eval=500,\n",
        "  params=xgb_263_params)\n",
        "\n",
        "  oof_xgb_263[val_idx] = xgb_263.predict(xgb.DMatrix(X_train_263[val_idx]), ntree_limit=xgb_263.best_ntree_limit)\n",
        "  predictions_xgb_263 += xgb_263.predict(xgb.DMatrix(X_test_263), ntree_limit=xgb_263.best_ntree_limit) / folds.n_splits\n",
        "print(\"CV score: {:<8.8f}\".format(mean_squared_error(oof_xgb_263, target)))\n"
      ],
      "execution_count": 25,
      "outputs": [
        {
          "output_type": "stream",
          "text": [
            "fold n°1\n",
            "[0]\ttrain-rmse:3.40424\tvalid_data-rmse:3.38321\n",
            "Multiple eval metrics have been passed: 'valid_data-rmse' will be used for early stopping.\n",
            "\n",
            "Will train until valid_data-rmse hasn't improved in 600 rounds.\n",
            "[500]\ttrain-rmse:0.40046\tvalid_data-rmse:0.710048\n",
            "Stopping. Best iteration:\n",
            "[333]\ttrain-rmse:0.461598\tvalid_data-rmse:0.709523\n",
            "\n",
            "fold n°2\n",
            "[0]\ttrain-rmse:3.39811\tvalid_data-rmse:3.40795\n",
            "Multiple eval metrics have been passed: 'valid_data-rmse' will be used for early stopping.\n",
            "\n",
            "Will train until valid_data-rmse hasn't improved in 600 rounds.\n",
            "[500]\ttrain-rmse:0.40646\tvalid_data-rmse:0.701843\n",
            "[1000]\ttrain-rmse:0.274031\tvalid_data-rmse:0.702291\n",
            "Stopping. Best iteration:\n",
            "[789]\ttrain-rmse:0.322916\tvalid_data-rmse:0.700848\n",
            "\n",
            "fold n°3\n",
            "[0]\ttrain-rmse:3.40182\tvalid_data-rmse:3.39305\n",
            "Multiple eval metrics have been passed: 'valid_data-rmse' will be used for early stopping.\n",
            "\n",
            "Will train until valid_data-rmse hasn't improved in 600 rounds.\n",
            "[500]\ttrain-rmse:0.408645\tvalid_data-rmse:0.66462\n",
            "Stopping. Best iteration:\n",
            "[371]\ttrain-rmse:0.456495\tvalid_data-rmse:0.664003\n",
            "\n",
            "fold n°4\n",
            "[0]\ttrain-rmse:3.40238\tvalid_data-rmse:3.39009\n",
            "Multiple eval metrics have been passed: 'valid_data-rmse' will be used for early stopping.\n",
            "\n",
            "Will train until valid_data-rmse hasn't improved in 600 rounds.\n",
            "[500]\ttrain-rmse:0.409345\tvalid_data-rmse:0.667902\n",
            "[1000]\ttrain-rmse:0.26998\tvalid_data-rmse:0.669402\n",
            "Stopping. Best iteration:\n",
            "[622]\ttrain-rmse:0.370577\tvalid_data-rmse:0.666579\n",
            "\n",
            "fold n°5\n",
            "[0]\ttrain-rmse:3.39342\tvalid_data-rmse:3.4264\n",
            "Multiple eval metrics have been passed: 'valid_data-rmse' will be used for early stopping.\n",
            "\n",
            "Will train until valid_data-rmse hasn't improved in 600 rounds.\n",
            "[500]\ttrain-rmse:0.415419\tvalid_data-rmse:0.649368\n",
            "[1000]\ttrain-rmse:0.278108\tvalid_data-rmse:0.649609\n",
            "Stopping. Best iteration:\n",
            "[737]\ttrain-rmse:0.344596\tvalid_data-rmse:0.648552\n",
            "\n",
            "CV score: 0.46009851\n"
          ],
          "name": "stdout"
        }
      ]
    },
    {
      "cell_type": "code",
      "metadata": {
        "colab": {
          "base_uri": "https://localhost:8080/"
        },
        "id": "-alIYCz1lLMf",
        "outputId": "b044f00e-0744-4763-f309-d3c18a7070a3"
      },
      "source": [
        "oof_lgb_263[val_idx]"
      ],
      "execution_count": 26,
      "outputs": [
        {
          "output_type": "execute_result",
          "data": {
            "text/plain": [
              "array([3.1680366 , 3.92366695, 3.67438065, ..., 3.77478232, 4.02659468,\n",
              "       3.7600825 ])"
            ]
          },
          "metadata": {
            "tags": []
          },
          "execution_count": 26
        }
      ]
    },
    {
      "cell_type": "code",
      "metadata": {
        "colab": {
          "base_uri": "https://localhost:8080/"
        },
        "id": "RvD6RKBc_gRr",
        "outputId": "104f1216-0ac1-4322-ea4d-cacef28d7add"
      },
      "source": [
        "oof_xgb_263[val_idx]"
      ],
      "execution_count": 27,
      "outputs": [
        {
          "output_type": "execute_result",
          "data": {
            "text/plain": [
              "array([3.39750266, 4.10231686, 3.66163111, ..., 3.6501019 , 4.06550264,\n",
              "       3.88797045])"
            ]
          },
          "metadata": {
            "tags": []
          },
          "execution_count": 27
        }
      ]
    },
    {
      "cell_type": "code",
      "metadata": {
        "colab": {
          "base_uri": "https://localhost:8080/"
        },
        "id": "93g1uLAl_kLN",
        "outputId": "cbebe3c4-256e-44df-d607-9f1f7efb62e6"
      },
      "source": [
        "predictions_xgb_263"
      ],
      "execution_count": 28,
      "outputs": [
        {
          "output_type": "execute_result",
          "data": {
            "text/plain": [
              "array([3.797822  , 2.87248248, 3.45462191, ..., 4.0017767 , 3.99328637,\n",
              "       4.80986798])"
            ]
          },
          "metadata": {
            "tags": []
          },
          "execution_count": 28
        }
      ]
    },
    {
      "cell_type": "code",
      "metadata": {
        "colab": {
          "base_uri": "https://localhost:8080/"
        },
        "id": "yzE3hX6k_mt8",
        "outputId": "d26ec3f7-b83a-4b12-ab03-3a49b4b28e4e"
      },
      "source": [
        "#RandomForestRegressor随机森林\n",
        "folds = KFold(n_splits=5, shuffle=True, random_state=2019)\n",
        "oof_rfr_263 = np.zeros(len(X_train_263))\n",
        "predictions_rfr_263 = np.zeros(len(X_test_263))\n",
        "\n",
        "for fold_, (trn_idx, val_idx) in enumerate(folds.split(X_train_263, y_train)):\n",
        "  print(\"fold n°{}\".format(fold_+1))\n",
        "  tr_x = X_train_263[trn_idx]\n",
        "  tr_y = y_train[trn_idx]\n",
        "  # using parallel job for training\n",
        "  rfr_263 = rfr(n_estimators=1600,max_depth=9, min_samples_leaf=9, min_weight_fraction_leaf=0.0,\n",
        "  max_features=0.25,verbose=1,n_jobs=-1)\n",
        "  #verbose = 0 为不在标准输出流输出日志信息\n",
        "  #verbose = 1 为输出进度条记录\n",
        "  #verbose = 2 为每个epoch输出一行记录\n",
        "  rfr_263.fit(tr_x,tr_y)\n",
        "  oof_rfr_263[val_idx] = rfr_263.predict(X_train_263[val_idx])\n",
        "  predictions_rfr_263 += rfr_263.predict(X_test_263) / folds.n_splits\n",
        "print(\"CV score: {:<8.8f}\".format(mean_squared_error(oof_rfr_263, target)))"
      ],
      "execution_count": 29,
      "outputs": [
        {
          "output_type": "stream",
          "text": [
            "fold n°1\n"
          ],
          "name": "stdout"
        },
        {
          "output_type": "stream",
          "text": [
            "[Parallel(n_jobs=-1)]: Using backend ThreadingBackend with 2 concurrent workers.\n",
            "[Parallel(n_jobs=-1)]: Done  46 tasks      | elapsed:    3.1s\n",
            "[Parallel(n_jobs=-1)]: Done 196 tasks      | elapsed:   13.0s\n",
            "[Parallel(n_jobs=-1)]: Done 446 tasks      | elapsed:   29.5s\n",
            "[Parallel(n_jobs=-1)]: Done 796 tasks      | elapsed:   52.6s\n",
            "[Parallel(n_jobs=-1)]: Done 1246 tasks      | elapsed:  1.4min\n",
            "[Parallel(n_jobs=-1)]: Done 1600 out of 1600 | elapsed:  1.8min finished\n",
            "[Parallel(n_jobs=2)]: Using backend ThreadingBackend with 2 concurrent workers.\n",
            "[Parallel(n_jobs=2)]: Done  46 tasks      | elapsed:    0.0s\n",
            "[Parallel(n_jobs=2)]: Done 196 tasks      | elapsed:    0.1s\n",
            "[Parallel(n_jobs=2)]: Done 446 tasks      | elapsed:    0.1s\n",
            "[Parallel(n_jobs=2)]: Done 796 tasks      | elapsed:    0.2s\n",
            "[Parallel(n_jobs=2)]: Done 1246 tasks      | elapsed:    0.4s\n",
            "[Parallel(n_jobs=2)]: Done 1600 out of 1600 | elapsed:    0.5s finished\n",
            "[Parallel(n_jobs=2)]: Using backend ThreadingBackend with 2 concurrent workers.\n",
            "[Parallel(n_jobs=2)]: Done  46 tasks      | elapsed:    0.0s\n",
            "[Parallel(n_jobs=2)]: Done 196 tasks      | elapsed:    0.1s\n",
            "[Parallel(n_jobs=2)]: Done 446 tasks      | elapsed:    0.2s\n",
            "[Parallel(n_jobs=2)]: Done 796 tasks      | elapsed:    0.3s\n",
            "[Parallel(n_jobs=2)]: Done 1246 tasks      | elapsed:    0.5s\n",
            "[Parallel(n_jobs=2)]: Done 1600 out of 1600 | elapsed:    0.7s finished\n"
          ],
          "name": "stderr"
        },
        {
          "output_type": "stream",
          "text": [
            "fold n°2\n"
          ],
          "name": "stdout"
        },
        {
          "output_type": "stream",
          "text": [
            "[Parallel(n_jobs=-1)]: Using backend ThreadingBackend with 2 concurrent workers.\n",
            "[Parallel(n_jobs=-1)]: Done  46 tasks      | elapsed:    3.1s\n",
            "[Parallel(n_jobs=-1)]: Done 196 tasks      | elapsed:   13.0s\n",
            "[Parallel(n_jobs=-1)]: Done 446 tasks      | elapsed:   29.3s\n",
            "[Parallel(n_jobs=-1)]: Done 796 tasks      | elapsed:   52.3s\n",
            "[Parallel(n_jobs=-1)]: Done 1246 tasks      | elapsed:  1.4min\n",
            "[Parallel(n_jobs=-1)]: Done 1600 out of 1600 | elapsed:  1.8min finished\n",
            "[Parallel(n_jobs=2)]: Using backend ThreadingBackend with 2 concurrent workers.\n",
            "[Parallel(n_jobs=2)]: Done  46 tasks      | elapsed:    0.0s\n",
            "[Parallel(n_jobs=2)]: Done 196 tasks      | elapsed:    0.1s\n",
            "[Parallel(n_jobs=2)]: Done 446 tasks      | elapsed:    0.1s\n",
            "[Parallel(n_jobs=2)]: Done 796 tasks      | elapsed:    0.2s\n",
            "[Parallel(n_jobs=2)]: Done 1246 tasks      | elapsed:    0.4s\n",
            "[Parallel(n_jobs=2)]: Done 1600 out of 1600 | elapsed:    0.5s finished\n",
            "[Parallel(n_jobs=2)]: Using backend ThreadingBackend with 2 concurrent workers.\n",
            "[Parallel(n_jobs=2)]: Done  46 tasks      | elapsed:    0.0s\n",
            "[Parallel(n_jobs=2)]: Done 196 tasks      | elapsed:    0.1s\n",
            "[Parallel(n_jobs=2)]: Done 446 tasks      | elapsed:    0.2s\n",
            "[Parallel(n_jobs=2)]: Done 796 tasks      | elapsed:    0.4s\n",
            "[Parallel(n_jobs=2)]: Done 1246 tasks      | elapsed:    0.6s\n",
            "[Parallel(n_jobs=2)]: Done 1600 out of 1600 | elapsed:    0.7s finished\n"
          ],
          "name": "stderr"
        },
        {
          "output_type": "stream",
          "text": [
            "fold n°3\n"
          ],
          "name": "stdout"
        },
        {
          "output_type": "stream",
          "text": [
            "[Parallel(n_jobs=-1)]: Using backend ThreadingBackend with 2 concurrent workers.\n",
            "[Parallel(n_jobs=-1)]: Done  46 tasks      | elapsed:    3.1s\n",
            "[Parallel(n_jobs=-1)]: Done 196 tasks      | elapsed:   13.0s\n",
            "[Parallel(n_jobs=-1)]: Done 446 tasks      | elapsed:   29.7s\n",
            "[Parallel(n_jobs=-1)]: Done 796 tasks      | elapsed:   53.1s\n",
            "[Parallel(n_jobs=-1)]: Done 1246 tasks      | elapsed:  1.4min\n",
            "[Parallel(n_jobs=-1)]: Done 1600 out of 1600 | elapsed:  1.8min finished\n",
            "[Parallel(n_jobs=2)]: Using backend ThreadingBackend with 2 concurrent workers.\n",
            "[Parallel(n_jobs=2)]: Done  46 tasks      | elapsed:    0.0s\n",
            "[Parallel(n_jobs=2)]: Done 196 tasks      | elapsed:    0.1s\n",
            "[Parallel(n_jobs=2)]: Done 446 tasks      | elapsed:    0.1s\n",
            "[Parallel(n_jobs=2)]: Done 796 tasks      | elapsed:    0.2s\n",
            "[Parallel(n_jobs=2)]: Done 1246 tasks      | elapsed:    0.4s\n",
            "[Parallel(n_jobs=2)]: Done 1600 out of 1600 | elapsed:    0.5s finished\n",
            "[Parallel(n_jobs=2)]: Using backend ThreadingBackend with 2 concurrent workers.\n",
            "[Parallel(n_jobs=2)]: Done  46 tasks      | elapsed:    0.0s\n",
            "[Parallel(n_jobs=2)]: Done 196 tasks      | elapsed:    0.1s\n",
            "[Parallel(n_jobs=2)]: Done 446 tasks      | elapsed:    0.2s\n",
            "[Parallel(n_jobs=2)]: Done 796 tasks      | elapsed:    0.4s\n",
            "[Parallel(n_jobs=2)]: Done 1246 tasks      | elapsed:    0.6s\n",
            "[Parallel(n_jobs=2)]: Done 1600 out of 1600 | elapsed:    0.8s finished\n"
          ],
          "name": "stderr"
        },
        {
          "output_type": "stream",
          "text": [
            "fold n°4\n"
          ],
          "name": "stdout"
        },
        {
          "output_type": "stream",
          "text": [
            "[Parallel(n_jobs=-1)]: Using backend ThreadingBackend with 2 concurrent workers.\n",
            "[Parallel(n_jobs=-1)]: Done  46 tasks      | elapsed:    3.1s\n",
            "[Parallel(n_jobs=-1)]: Done 196 tasks      | elapsed:   13.0s\n",
            "[Parallel(n_jobs=-1)]: Done 446 tasks      | elapsed:   29.6s\n",
            "[Parallel(n_jobs=-1)]: Done 796 tasks      | elapsed:   52.5s\n",
            "[Parallel(n_jobs=-1)]: Done 1246 tasks      | elapsed:  1.4min\n",
            "[Parallel(n_jobs=-1)]: Done 1600 out of 1600 | elapsed:  1.8min finished\n",
            "[Parallel(n_jobs=2)]: Using backend ThreadingBackend with 2 concurrent workers.\n",
            "[Parallel(n_jobs=2)]: Done  46 tasks      | elapsed:    0.0s\n",
            "[Parallel(n_jobs=2)]: Done 196 tasks      | elapsed:    0.1s\n",
            "[Parallel(n_jobs=2)]: Done 446 tasks      | elapsed:    0.1s\n",
            "[Parallel(n_jobs=2)]: Done 796 tasks      | elapsed:    0.2s\n",
            "[Parallel(n_jobs=2)]: Done 1246 tasks      | elapsed:    0.4s\n",
            "[Parallel(n_jobs=2)]: Done 1600 out of 1600 | elapsed:    0.5s finished\n",
            "[Parallel(n_jobs=2)]: Using backend ThreadingBackend with 2 concurrent workers.\n",
            "[Parallel(n_jobs=2)]: Done  46 tasks      | elapsed:    0.0s\n",
            "[Parallel(n_jobs=2)]: Done 196 tasks      | elapsed:    0.1s\n",
            "[Parallel(n_jobs=2)]: Done 446 tasks      | elapsed:    0.2s\n",
            "[Parallel(n_jobs=2)]: Done 796 tasks      | elapsed:    0.3s\n",
            "[Parallel(n_jobs=2)]: Done 1246 tasks      | elapsed:    0.5s\n",
            "[Parallel(n_jobs=2)]: Done 1600 out of 1600 | elapsed:    0.7s finished\n"
          ],
          "name": "stderr"
        },
        {
          "output_type": "stream",
          "text": [
            "fold n°5\n"
          ],
          "name": "stdout"
        },
        {
          "output_type": "stream",
          "text": [
            "[Parallel(n_jobs=-1)]: Using backend ThreadingBackend with 2 concurrent workers.\n",
            "[Parallel(n_jobs=-1)]: Done  46 tasks      | elapsed:    3.1s\n",
            "[Parallel(n_jobs=-1)]: Done 196 tasks      | elapsed:   13.0s\n",
            "[Parallel(n_jobs=-1)]: Done 446 tasks      | elapsed:   29.4s\n",
            "[Parallel(n_jobs=-1)]: Done 796 tasks      | elapsed:   52.3s\n",
            "[Parallel(n_jobs=-1)]: Done 1246 tasks      | elapsed:  1.4min\n",
            "[Parallel(n_jobs=-1)]: Done 1600 out of 1600 | elapsed:  1.8min finished\n",
            "[Parallel(n_jobs=2)]: Using backend ThreadingBackend with 2 concurrent workers.\n",
            "[Parallel(n_jobs=2)]: Done  46 tasks      | elapsed:    0.0s\n",
            "[Parallel(n_jobs=2)]: Done 196 tasks      | elapsed:    0.1s\n",
            "[Parallel(n_jobs=2)]: Done 446 tasks      | elapsed:    0.2s\n",
            "[Parallel(n_jobs=2)]: Done 796 tasks      | elapsed:    0.3s\n",
            "[Parallel(n_jobs=2)]: Done 1246 tasks      | elapsed:    0.4s\n",
            "[Parallel(n_jobs=2)]: Done 1600 out of 1600 | elapsed:    0.5s finished\n",
            "[Parallel(n_jobs=2)]: Using backend ThreadingBackend with 2 concurrent workers.\n",
            "[Parallel(n_jobs=2)]: Done  46 tasks      | elapsed:    0.0s\n",
            "[Parallel(n_jobs=2)]: Done 196 tasks      | elapsed:    0.1s\n",
            "[Parallel(n_jobs=2)]: Done 446 tasks      | elapsed:    0.2s\n",
            "[Parallel(n_jobs=2)]: Done 796 tasks      | elapsed:    0.4s\n"
          ],
          "name": "stderr"
        },
        {
          "output_type": "stream",
          "text": [
            "CV score: 0.47894388\n"
          ],
          "name": "stdout"
        },
        {
          "output_type": "stream",
          "text": [
            "[Parallel(n_jobs=2)]: Done 1246 tasks      | elapsed:    0.6s\n",
            "[Parallel(n_jobs=2)]: Done 1600 out of 1600 | elapsed:    0.8s finished\n"
          ],
          "name": "stderr"
        }
      ]
    },
    {
      "cell_type": "markdown",
      "metadata": {
        "id": "_5xqlt1BB1gd"
      },
      "source": [
        "# Using Stacking model\n",
        "+ Stage 1 models: LGBM, XGBoost, RandomForest\n",
        "+ Stage 2 models: Elastic Net"
      ]
    },
    {
      "cell_type": "code",
      "metadata": {
        "colab": {
          "base_uri": "https://localhost:8080/"
        },
        "id": "hbsPsdaxAIpt",
        "outputId": "53a955ee-9610-4e3c-e0fd-6aa25e3f8d79"
      },
      "source": [
        "# stacking predictions from LGBM, XGBoost and RandomForest\n",
        "# We need to transpose the results so that each row of matrix = predictions from different models\n",
        "# on the same sample\n",
        "train_stack2 = np.vstack([oof_lgb_263,oof_xgb_263,oof_rfr_263]).transpose()\n",
        "# transpose()函数的作用就是调换x,y,z的位置,也就是数组的索引值\n",
        "test_stack2 = np.vstack([predictions_lgb_263, predictions_xgb_263,predictions_rfr_263,]).transpose()\n",
        "#交叉验证:5折，重复2次\n",
        "folds_stack = RepeatedKFold(n_splits=5, n_repeats=2, random_state=7)\n",
        "oof_stack2 = np.zeros(train_stack2.shape[0])\n",
        "predictions_lr2 = np.zeros(test_stack2.shape[0])\n",
        "for fold_, (trn_idx, val_idx) in enumerate(folds_stack.split(train_stack2,target)):\n",
        "  print(\"fold {}\".format(fold_))\n",
        "  trn_data, trn_y = train_stack2[trn_idx], target.iloc[trn_idx].values\n",
        "  val_data, val_y = train_stack2[val_idx], target.iloc[val_idx].values\n",
        "  #using ElasticNet as stage 2 model for prediction\n",
        "  lr2 = en()\n",
        "  lr2.fit(trn_data, trn_y)\n",
        "  oof_stack2[val_idx] = lr2.predict(val_data)\n",
        "  predictions_lr2 += lr2.predict(test_stack2) / 10\n",
        "mean_squared_error(target.values, oof_stack2)"
      ],
      "execution_count": 30,
      "outputs": [
        {
          "output_type": "stream",
          "text": [
            "fold 0\n",
            "fold 1\n",
            "fold 2\n",
            "fold 3\n",
            "fold 4\n",
            "fold 5\n",
            "fold 6\n",
            "fold 7\n",
            "fold 8\n",
            "fold 9\n"
          ],
          "name": "stdout"
        },
        {
          "output_type": "execute_result",
          "data": {
            "text/plain": [
              "0.6706825385868225"
            ]
          },
          "metadata": {
            "tags": []
          },
          "execution_count": 30
        }
      ]
    },
    {
      "cell_type": "code",
      "metadata": {
        "id": "HnS9CD3mB0Cl"
      },
      "source": [
        ""
      ],
      "execution_count": null,
      "outputs": []
    }
  ]
}