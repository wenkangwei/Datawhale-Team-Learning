{
  "nbformat": 4,
  "nbformat_minor": 0,
  "metadata": {
    "colab": {
      "name": "Stacking.ipynb",
      "provenance": [],
      "collapsed_sections": []
    },
    "kernelspec": {
      "name": "python3",
      "display_name": "Python 3"
    },
    "language_info": {
      "name": "python"
    }
  },
  "cells": [
    {
      "cell_type": "markdown",
      "metadata": {
        "id": "OfD6Rv0eyCeE"
      },
      "source": [
        "# Stacking \n",
        "而在Stacking里面， 在第一层的模型是通过K-fold Cross validation 形式进行训练和预测。 而Blending的思路相对于把K-fold Cross validation换成Hold-Out。\n",
        "以下是Stacking 步骤:\n",
        "\n",
        "<img src=https://pic1.zhimg.com/80/v2-490b92e364070e07a4bd39d514000748_720w.jpg>\n",
        "\n",
        "(图片来源: https://zhuanlan.zhihu.com/p/91659366)\n",
        "\n",
        "Stacking 的步骤是：\n",
        "1. 先把training set 的数据进行K-fold cross validation (sklearn 里面default 2fold) 每个模型都有K个fold的prediction。之后如果有多个不同的模型，就有多个K-fold的prediction。比如说如果我先把训练集分成 5fold,那么就是[X1, X2 ... X5]. 如果我有两个不同的模型, 比如KNN和RandomForest那么对应的prediction分别是[A1, A2...A5], [B1, B2, ... B5]。之后我们可以把对应序号的prediction进行average计算。 比如 [(A1+B1)/2, (A2+B2)/2 ... (A5+B5)/2 ]。\n",
        "2. 之后把这些模型的输出作为第二层模型的输入。第二层模型一般是logistics regression，这个取决于具体任务\n",
        "3. 在test set里面， 用第一层的模型对test set的输出进行平均值计算得到第二层模型的测试集的输入，之后第二层模型预测输出。\n",
        "\n"
      ]
    },
    {
      "cell_type": "code",
      "metadata": {
        "colab": {
          "base_uri": "https://localhost:8080/"
        },
        "id": "SZacs0wSxefP",
        "outputId": "1182f7b7-1819-4554-fd78-e3bdb9cd05fc"
      },
      "source": [
        "from sklearn import datasets\n",
        "from sklearn.model_selection import cross_val_score\n",
        "from sklearn.linear_model import LogisticRegression\n",
        "from sklearn.neighbors import KNeighborsClassifier\n",
        "from sklearn.naive_bayes import GaussianNB\n",
        "from sklearn.ensemble import RandomForestClassifier\n",
        "from mlxtend.classifier import StackingCVClassifier\n",
        "\n",
        "\n",
        "iris_data = datasets.load_iris()\n",
        "X, y = iris_data.data[:, 1:3], iris_data.target\n",
        "\n",
        "RANDOM_SEED = 2021\n",
        "# stage 1 models: \n",
        "clf1 = KNeighborsClassifier(n_neighbors=1)\n",
        "clf2 = RandomForestClassifier(random_state=RANDOM_SEED)\n",
        "clf3 = GaussianNB()\n",
        "# stage 2 model: logistic regression\n",
        "lr = LogisticRegression()\n",
        "\n",
        "# Starting from v0.16.0, StackingCVRegressor supports\n",
        "# `random_state` to get deterministic result.\n",
        "sclf = StackingCVClassifier(classifiers=[clf1, clf2, clf3], meta_classifier=lr)\n",
        "print('3-fold cross validation:\\n')\n",
        "models= zip([clf1, clf2, clf3, sclf], ['KNN', 'Random Forest', 'NaiveBayes','StackingClassifier']) \n",
        "for clf, label in models:\n",
        "  scores = cross_val_score(clf, X, y, cv=3, scoring='accuracy')\n",
        "  print(\"Accuracy: %0.2f (+/- %0.2f) [%s]\" % (scores.mean(), scores.std(), label))"
      ],
      "execution_count": 2,
      "outputs": [
        {
          "output_type": "stream",
          "text": [
            "3-fold cross validation:\n",
            "\n",
            "Accuracy: 0.91 (+/- 0.01) [KNN]\n",
            "Accuracy: 0.95 (+/- 0.02) [Random Forest]\n",
            "Accuracy: 0.91 (+/- 0.02) [NaiveBayes]\n",
            "Accuracy: 0.93 (+/- 0.02) [StackingClassifier]\n"
          ],
          "name": "stdout"
        }
      ]
    },
    {
      "cell_type": "markdown",
      "metadata": {
        "id": "ko4gXZA3zxyj"
      },
      "source": [
        "# 2. Use Grid Search method to optimize stage 1 models"
      ]
    },
    {
      "cell_type": "code",
      "metadata": {
        "colab": {
          "base_uri": "https://localhost:8080/"
        },
        "id": "8-RaLfCQyxto",
        "outputId": "2aba47ef-e3f0-4ccf-dfa3-f8f6d655d225"
      },
      "source": [
        "from sklearn.linear_model import LogisticRegression\n",
        "from sklearn.neighbors import KNeighborsClassifier\n",
        "from sklearn.naive_bayes import GaussianNB\n",
        "from sklearn.ensemble import RandomForestClassifier\n",
        "from sklearn.model_selection import GridSearchCV\n",
        "from mlxtend.classifier import StackingCVClassifier\n",
        "\n",
        "clf1 = KNeighborsClassifier(n_neighbors=1)\n",
        "clf2 = RandomForestClassifier(random_state=RANDOM_SEED)\n",
        "clf3 = GaussianNB()\n",
        "# stage 2 model: logistic regression\n",
        "lr = LogisticRegression()\n",
        "\n",
        "sclf = StackingCVClassifier(classifiers= [clf1, clf2, clf3], meta_classifier=lr)\n",
        "# Note that\n",
        "# the key should match the string of model name + parameter name\n",
        "\n",
        "params = {'kneighborsclassifier__n_neighbors': [1, 3, 5],\n",
        "      'randomforestclassifier__n_estimators': [10, 25, 50,],\n",
        "      'meta_classifier__C': [0.1, 10.0]}\n",
        "\n",
        "grid = GridSearchCV(estimator=sclf, param_grid=params, cv=5, refit=True)\n",
        "grid.fit(X, y)\n",
        "cv_keys = ('mean_test_score', 'std_test_score', 'params')\n",
        "for r, _ in enumerate(grid.cv_results_['mean_test_score']):\n",
        "  print(\"%0.3f +/- %0.2f %r\"\n",
        "  % (grid.cv_results_[cv_keys[0]][r],\n",
        "    grid.cv_results_[cv_keys[1]][r] / 2.0,\n",
        "    grid.cv_results_[cv_keys[2]][r]))\n",
        "print('Best parameters: %s' % grid.best_params_)\n",
        "print('Accuracy: %.2f' % grid.best_score_)\n"
      ],
      "execution_count": 8,
      "outputs": [
        {
          "output_type": "stream",
          "text": [
            "0.933 +/- 0.03 {'kneighborsclassifier__n_neighbors': 1, 'meta_classifier__C': 0.1, 'randomforestclassifier__n_estimators': 10}\n",
            "0.947 +/- 0.02 {'kneighborsclassifier__n_neighbors': 1, 'meta_classifier__C': 0.1, 'randomforestclassifier__n_estimators': 25}\n",
            "0.947 +/- 0.03 {'kneighborsclassifier__n_neighbors': 1, 'meta_classifier__C': 0.1, 'randomforestclassifier__n_estimators': 50}\n",
            "0.940 +/- 0.02 {'kneighborsclassifier__n_neighbors': 1, 'meta_classifier__C': 10.0, 'randomforestclassifier__n_estimators': 10}\n",
            "0.940 +/- 0.03 {'kneighborsclassifier__n_neighbors': 1, 'meta_classifier__C': 10.0, 'randomforestclassifier__n_estimators': 25}\n",
            "0.953 +/- 0.02 {'kneighborsclassifier__n_neighbors': 1, 'meta_classifier__C': 10.0, 'randomforestclassifier__n_estimators': 50}\n",
            "0.933 +/- 0.01 {'kneighborsclassifier__n_neighbors': 3, 'meta_classifier__C': 0.1, 'randomforestclassifier__n_estimators': 10}\n",
            "0.947 +/- 0.02 {'kneighborsclassifier__n_neighbors': 3, 'meta_classifier__C': 0.1, 'randomforestclassifier__n_estimators': 25}\n",
            "0.947 +/- 0.02 {'kneighborsclassifier__n_neighbors': 3, 'meta_classifier__C': 0.1, 'randomforestclassifier__n_estimators': 50}\n",
            "0.940 +/- 0.01 {'kneighborsclassifier__n_neighbors': 3, 'meta_classifier__C': 10.0, 'randomforestclassifier__n_estimators': 10}\n",
            "0.940 +/- 0.02 {'kneighborsclassifier__n_neighbors': 3, 'meta_classifier__C': 10.0, 'randomforestclassifier__n_estimators': 25}\n",
            "0.940 +/- 0.02 {'kneighborsclassifier__n_neighbors': 3, 'meta_classifier__C': 10.0, 'randomforestclassifier__n_estimators': 50}\n",
            "0.940 +/- 0.02 {'kneighborsclassifier__n_neighbors': 5, 'meta_classifier__C': 0.1, 'randomforestclassifier__n_estimators': 10}\n",
            "0.953 +/- 0.02 {'kneighborsclassifier__n_neighbors': 5, 'meta_classifier__C': 0.1, 'randomforestclassifier__n_estimators': 25}\n",
            "0.953 +/- 0.02 {'kneighborsclassifier__n_neighbors': 5, 'meta_classifier__C': 0.1, 'randomforestclassifier__n_estimators': 50}\n",
            "0.933 +/- 0.02 {'kneighborsclassifier__n_neighbors': 5, 'meta_classifier__C': 10.0, 'randomforestclassifier__n_estimators': 10}\n",
            "0.953 +/- 0.02 {'kneighborsclassifier__n_neighbors': 5, 'meta_classifier__C': 10.0, 'randomforestclassifier__n_estimators': 25}\n",
            "0.947 +/- 0.02 {'kneighborsclassifier__n_neighbors': 5, 'meta_classifier__C': 10.0, 'randomforestclassifier__n_estimators': 50}\n",
            "Best parameters: {'kneighborsclassifier__n_neighbors': 1, 'meta_classifier__C': 10.0, 'randomforestclassifier__n_estimators': 50}\n",
            "Accuracy: 0.95\n"
          ],
          "name": "stdout"
        }
      ]
    },
    {
      "cell_type": "markdown",
      "metadata": {
        "id": "fQjHKT0e39S9"
      },
      "source": [
        ""
      ]
    },
    {
      "cell_type": "code",
      "metadata": {
        "id": "6nxQbMiu0y3k"
      },
      "source": [
        "# 4.在不同特征子集上运行的分类器的堆叠\n",
        "##不同的1级分类器可以适合训练数据集中的不同特征子集。以下示例说明了如何使用scikit-learn管道和\n",
        "\n",
        "from sklearn.datasets import load_iris\n",
        "from mlxtend.classifier import StackingCVClassifier\n",
        "from mlxtend.feature_selection import ColumnSelector\n",
        "from sklearn.pipeline import make_pipeline\n",
        "from sklearn.linear_model import LogisticRegression\n",
        "iris = load_iris()\n",
        "X = iris.data\n",
        "y = iris.target\n",
        "# ColumnSelector: an object for selecting specific columns from a dataset\n",
        "# so when ColumnSelector(cols=(0, 2)), it selects the first and second columns of iris data\n",
        "pipe_lr1 = make_pipeline(ColumnSelector(cols=(0, 2)), LogisticRegression())\n",
        "pipe_lr2 = make_pipeline(ColumnSelector(cols=(1, 2, 3)), LogisticRegression())\n",
        "sclf = StackingCVClassifier(classifiers=[pipe_lr1, pipe_lr2], meta_classifier=LogisticRegression())\n",
        "_ = sclf.fit(X, y)"
      ],
      "execution_count": 17,
      "outputs": []
    },
    {
      "cell_type": "code",
      "metadata": {
        "colab": {
          "base_uri": "https://localhost:8080/"
        },
        "id": "pibSwk7L39AE",
        "outputId": "5542412d-6e3c-4a5d-e1e7-bf53e83ced0c"
      },
      "source": [
        "ColumnSelector(cols=(0, 2))"
      ],
      "execution_count": 14,
      "outputs": [
        {
          "output_type": "execute_result",
          "data": {
            "text/plain": [
              "ColumnSelector(cols=(0, 2), drop_axis=False)"
            ]
          },
          "metadata": {
            "tags": []
          },
          "execution_count": 14
        }
      ]
    },
    {
      "cell_type": "markdown",
      "metadata": {
        "id": "wBnRUg3M5VQh"
      },
      "source": [
        "# Draw ROC Curve"
      ]
    },
    {
      "cell_type": "code",
      "metadata": {
        "colab": {
          "base_uri": "https://localhost:8080/",
          "height": 295
        },
        "id": "uNo784xr38yw",
        "outputId": "52fb93ee-d351-43e9-b692-03fa750bdbe6"
      },
      "source": [
        "from matplotlib import pyplot as plt\n",
        "\n",
        "from sklearn import model_selection\n",
        "from sklearn.neighbors import KNeighborsClassifier\n",
        "from sklearn.ensemble import RandomForestClassifier\n",
        "from sklearn.linear_model import LogisticRegression\n",
        "from sklearn.svm import SVC\n",
        "\n",
        "from mlxtend.classifier import StackingCVClassifier,StackingClassifier\n",
        "from sklearn.metrics import roc_curve, auc\n",
        "from sklearn.model_selection import train_test_split\n",
        "from sklearn import datasets\n",
        "from sklearn.preprocessing import label_binarize\n",
        "from sklearn.multiclass import OneVsRestClassifier\n",
        "\n",
        "# load data\n",
        "RANDOM_SEED = 2021\n",
        "iris = datasets.load_iris()\n",
        "X, y = iris.data[:, [0, 1]], iris.target\n",
        "# Binarize the output / onehot\n",
        "y = label_binarize(y, classes=[0, 1, 2])\n",
        "\n",
        "X_train, X_test, y_train, y_test = train_test_split( X, y, test_size=0.33, random_state=RANDOM_SEED)\n",
        "\n",
        "\n",
        "# build models\n",
        "clf1 = LogisticRegression()\n",
        "clf2 = SVC(random_state=RANDOM_SEED)#RandomForestClassifier(random_state=RANDOM_SEED)\n",
        "clf3 = SVC(random_state=RANDOM_SEED)\n",
        "lr = LogisticRegression()\n",
        "\n",
        "\n",
        "sclf = StackingCVClassifier(classifiers=[clf1, clf2, clf3], meta_classifier=lr)\n",
        "\n",
        "# In OneVsRestClassifier, for each classifier, the class is fitted against all the other classes. \n",
        "clf_ovr = OneVsRestClassifier(clf3)\n",
        "clf_ovr.fit(X_train, y_train)\n",
        "y_score = clf_ovr.decision_function(X_test)\n",
        "\n",
        "\n",
        "\n",
        "fpr = {}\n",
        "tpr = {}\n",
        "roc_auc = {}\n",
        "\n",
        "n_classes = y.shape[1]\n",
        "# compute ROC curve and AUC for each class\n",
        "\n",
        "for i in range(n_classes):\n",
        "  # prediction of the i^th class with binary label, 0 or 1\n",
        "  fpr[i], tpr[i], _ = roc_curve(y_test[:, i], y_score[:, i])\n",
        "  roc_auc[i] = auc(fpr[i], tpr[i])\n",
        "\n",
        "# Compute micro-average ROC curve and ROC area\n",
        "fpr[\"micro\"], tpr[\"micro\"], _ = roc_curve(y_test.ravel(), y_score.ravel())\n",
        "roc_auc[\"micro\"] = auc(fpr[\"micro\"], tpr[\"micro\"])\n",
        "\n",
        "# Plot ROC curve\n",
        "plt.figure()\n",
        "lw = 2\n",
        "plt.plot(fpr[2], tpr[2], color='darkorange', lw=lw, label='ROC curve (area = %0.2f)' % roc_auc[2])\n",
        "plt.plot([0, 1], [0, 1], color='navy', lw=lw, linestyle='--')\n",
        "plt.xlim([0.0, 1.0])\n",
        "plt.ylim([0.0, 1.05])\n",
        "plt.xlabel('False Positive Rate')\n",
        "plt.ylabel('True Positive Rate')\n",
        "plt.title('Receiver operating characteristic example')\n",
        "plt.legend(loc=\"lower right\")\n",
        "plt.show()"
      ],
      "execution_count": 86,
      "outputs": [
        {
          "output_type": "display_data",
          "data": {
            "image/png": "[encoded data removed]",
            "text/plain": [
              "<Figure size 432x288 with 1 Axes>"
            ]
          },
          "metadata": {
            "tags": [],
            "needs_background": "light"
          }
        }
      ]
    },
    {
      "cell_type": "markdown",
      "metadata": {
        "id": "tYgzj0chJvwk"
      },
      "source": [
        "# Conclusion\n",
        "Blending与Stacking对比:\n",
        "Blending的优点在于:\n",
        "+ 比stacking简单（因为不用进行k次的交叉验证来获得stacker feature）\n",
        "缺点在于：\n",
        "+ 使用了很少的数据（是划分hold-out作为测试集，并非cv）\n",
        "+ blender可能会过拟合"
      ]
    },
    {
      "cell_type": "code",
      "metadata": {
        "id": "gGWqVl2tGT7j"
      },
      "source": [
        ""
      ],
      "execution_count": null,
      "outputs": []
    }
  ]
}